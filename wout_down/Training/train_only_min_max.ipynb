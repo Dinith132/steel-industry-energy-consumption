{
  "cells": [
    {
      "cell_type": "code",
      "execution_count": 1,
      "id": "btuxbOULxwqW",
      "metadata": {
        "colab": {
          "base_uri": "https://localhost:8080/"
        },
        "id": "btuxbOULxwqW",
        "outputId": "d4d41461-7fde-4c29-d146-179ae88efb53"
      },
      "outputs": [
        {
          "name": "stdout",
          "output_type": "stream",
          "text": [
            "fatal: destination path 'steel-industry-energy-consumption' already exists and is not an empty directory.\n"
          ]
        }
      ],
      "source": [
        "!git clone https://github.com/Dinith132/steel-industry-energy-consumption.git"
      ]
    },
    {
      "cell_type": "code",
      "execution_count": null,
      "id": "_okSezaYx0Pl",
      "metadata": {
        "colab": {
          "base_uri": "https://localhost:8080/"
        },
        "id": "_okSezaYx0Pl",
        "outputId": "b6c11d6b-b557-478c-bac6-c71f8dd19253"
      },
      "outputs": [
        {
          "name": "stdout",
          "output_type": "stream",
          "text": [
            "/content/steel-industry-energy-consumption/with_down/Training\n"
          ]
        }
      ],
      "source": [
        "cd steel-industry-energy-consumption/wout_down/Training/"
      ]
    },
    {
      "cell_type": "code",
      "execution_count": 3,
      "id": "d1f5037b",
      "metadata": {
        "id": "d1f5037b"
      },
      "outputs": [],
      "source": [
        "import pandas as pd\n",
        "import numpy as np\n",
        "from sklearn.preprocessing import OrdinalEncoder, MinMaxScaler\n",
        "from sklearn.model_selection import train_test_split"
      ]
    },
    {
      "cell_type": "code",
      "execution_count": 4,
      "id": "f06ae63b",
      "metadata": {
        "id": "f06ae63b"
      },
      "outputs": [],
      "source": [
        "df=pd.read_csv(\"../data_only_min_max.csv\")"
      ]
    },
    {
      "cell_type": "code",
      "execution_count": 5,
      "id": "348c0853",
      "metadata": {
        "colab": {
          "base_uri": "https://localhost:8080/",
          "height": 226
        },
        "id": "348c0853",
        "outputId": "b2bd54e4-ea4c-4fea-f439-865a7953aa37"
      },
      "outputs": [
        {
          "data": {
            "application/vnd.google.colaboratory.intrinsic+json": {
              "summary": "{\n  \"name\": \"df\",\n  \"rows\": 8760,\n  \"fields\": [\n    {\n      \"column\": \"Usage_kWh\",\n      \"properties\": {\n        \"dtype\": \"number\",\n        \"std\": 0.23080570381902088,\n        \"min\": 0.0,\n        \"max\": 1.0,\n        \"num_unique_values\": 4571,\n        \"samples\": [\n          0.2464112190812721,\n          0.0075640459363957,\n          0.0161587161366313\n        ],\n        \"semantic_type\": \"\",\n        \"description\": \"\"\n      }\n    },\n    {\n      \"column\": \"Lagging_Current_Reactive.Power_kVarh\",\n      \"properties\": {\n        \"dtype\": \"number\",\n        \"std\": 0.20127833422596986,\n        \"min\": 0.0,\n        \"max\": 1.0,\n        \"num_unique_values\": 4347,\n        \"samples\": [\n          0.2662740342975922,\n          0.4561233327559327,\n          0.3861077429412783\n        ],\n        \"semantic_type\": \"\",\n        \"description\": \"\"\n      }\n    },\n    {\n      \"column\": \"Leading_Current_Reactive_Power_kVarh\",\n      \"properties\": {\n        \"dtype\": \"number\",\n        \"std\": 0.24377233427599548,\n        \"min\": 0.0,\n        \"max\": 1.0,\n        \"num_unique_values\": 2390,\n        \"samples\": [\n          0.2869045462778482,\n          0.92265893859808,\n          0.8196884622351024\n        ],\n        \"semantic_type\": \"\",\n        \"description\": \"\"\n      }\n    },\n    {\n      \"column\": \"CO2(tCO2)\",\n      \"properties\": {\n        \"dtype\": \"number\",\n        \"std\": 0.23188646420413145,\n        \"min\": 0.0,\n        \"max\": 1.0,\n        \"num_unique_values\": 35,\n        \"samples\": [\n          0.1923076923076923,\n          0.9230769230769228,\n          0.6538461538461537\n        ],\n        \"semantic_type\": \"\",\n        \"description\": \"\"\n      }\n    },\n    {\n      \"column\": \"Lagging_Current_Power_Factor\",\n      \"properties\": {\n        \"dtype\": \"number\",\n        \"std\": 0.2923987715322884,\n        \"min\": 0.0,\n        \"max\": 1.0,\n        \"num_unique_values\": 6185,\n        \"samples\": [\n          0.8933056895658068,\n          0.946413619871616,\n          0.9707348191858376\n        ],\n        \"semantic_type\": \"\",\n        \"description\": \"\"\n      }\n    },\n    {\n      \"column\": \"Leading_Current_Power_Factor\",\n      \"properties\": {\n        \"dtype\": \"number\",\n        \"std\": 0.322044831806757,\n        \"min\": 0.0,\n        \"max\": 1.0,\n        \"num_unique_values\": 2668,\n        \"samples\": [\n          0.0794105022177708,\n          0.2974388324509944,\n          0.363084847617685\n        ],\n        \"semantic_type\": \"\",\n        \"description\": \"\"\n      }\n    },\n    {\n      \"column\": \"NSM\",\n      \"properties\": {\n        \"dtype\": \"number\",\n        \"std\": 0.3009818125319354,\n        \"min\": 0.0,\n        \"max\": 1.0,\n        \"num_unique_values\": 24,\n        \"samples\": [\n          0.3478260869565217,\n          0.6956521739130435,\n          0.0\n        ],\n        \"semantic_type\": \"\",\n        \"description\": \"\"\n      }\n    },\n    {\n      \"column\": \"WeekStatus\",\n      \"properties\": {\n        \"dtype\": \"number\",\n        \"std\": 0.45140758138618176,\n        \"min\": 0.0,\n        \"max\": 1.0,\n        \"num_unique_values\": 2,\n        \"samples\": [\n          1.0,\n          0.0\n        ],\n        \"semantic_type\": \"\",\n        \"description\": \"\"\n      }\n    },\n    {\n      \"column\": \"Load_Type\",\n      \"properties\": {\n        \"dtype\": \"number\",\n        \"std\": 0.42877997233601683,\n        \"min\": 0.0,\n        \"max\": 1.0,\n        \"num_unique_values\": 3,\n        \"samples\": [\n          0.0,\n          1.0\n        ],\n        \"semantic_type\": \"\",\n        \"description\": \"\"\n      }\n    }\n  ]\n}",
              "type": "dataframe",
              "variable_name": "df"
            },
            "text/html": [
              "\n",
              "  <div id=\"df-9b0a08cb-6c6c-44f6-97e5-554c6bb0fca2\" class=\"colab-df-container\">\n",
              "    <div>\n",
              "<style scoped>\n",
              "    .dataframe tbody tr th:only-of-type {\n",
              "        vertical-align: middle;\n",
              "    }\n",
              "\n",
              "    .dataframe tbody tr th {\n",
              "        vertical-align: top;\n",
              "    }\n",
              "\n",
              "    .dataframe thead th {\n",
              "        text-align: right;\n",
              "    }\n",
              "</style>\n",
              "<table border=\"1\" class=\"dataframe\">\n",
              "  <thead>\n",
              "    <tr style=\"text-align: right;\">\n",
              "      <th></th>\n",
              "      <th>Usage_kWh</th>\n",
              "      <th>Lagging_Current_Reactive.Power_kVarh</th>\n",
              "      <th>Leading_Current_Reactive_Power_kVarh</th>\n",
              "      <th>CO2(tCO2)</th>\n",
              "      <th>Lagging_Current_Power_Factor</th>\n",
              "      <th>Leading_Current_Power_Factor</th>\n",
              "      <th>NSM</th>\n",
              "      <th>WeekStatus</th>\n",
              "      <th>Load_Type</th>\n",
              "    </tr>\n",
              "  </thead>\n",
              "  <tbody>\n",
              "    <tr>\n",
              "      <th>0</th>\n",
              "      <td>0.007306</td>\n",
              "      <td>0.049021</td>\n",
              "      <td>0.0</td>\n",
              "      <td>0.0</td>\n",
              "      <td>0.523783</td>\n",
              "      <td>1.0</td>\n",
              "      <td>0.000000</td>\n",
              "      <td>0.0</td>\n",
              "      <td>0.0</td>\n",
              "    </tr>\n",
              "    <tr>\n",
              "      <th>1</th>\n",
              "      <td>0.007638</td>\n",
              "      <td>0.054599</td>\n",
              "      <td>0.0</td>\n",
              "      <td>0.0</td>\n",
              "      <td>0.466489</td>\n",
              "      <td>1.0</td>\n",
              "      <td>0.043478</td>\n",
              "      <td>0.0</td>\n",
              "      <td>0.0</td>\n",
              "    </tr>\n",
              "    <tr>\n",
              "      <th>2</th>\n",
              "      <td>0.007840</td>\n",
              "      <td>0.057752</td>\n",
              "      <td>0.0</td>\n",
              "      <td>0.0</td>\n",
              "      <td>0.437662</td>\n",
              "      <td>1.0</td>\n",
              "      <td>0.086957</td>\n",
              "      <td>0.0</td>\n",
              "      <td>0.0</td>\n",
              "    </tr>\n",
              "    <tr>\n",
              "      <th>3</th>\n",
              "      <td>0.007288</td>\n",
              "      <td>0.056123</td>\n",
              "      <td>0.0</td>\n",
              "      <td>0.0</td>\n",
              "      <td>0.442885</td>\n",
              "      <td>1.0</td>\n",
              "      <td>0.130435</td>\n",
              "      <td>0.0</td>\n",
              "      <td>0.0</td>\n",
              "    </tr>\n",
              "    <tr>\n",
              "      <th>4</th>\n",
              "      <td>0.008484</td>\n",
              "      <td>0.061112</td>\n",
              "      <td>0.0</td>\n",
              "      <td>0.0</td>\n",
              "      <td>0.418165</td>\n",
              "      <td>1.0</td>\n",
              "      <td>0.173913</td>\n",
              "      <td>0.0</td>\n",
              "      <td>0.0</td>\n",
              "    </tr>\n",
              "  </tbody>\n",
              "</table>\n",
              "</div>\n",
              "    <div class=\"colab-df-buttons\">\n",
              "\n",
              "  <div class=\"colab-df-container\">\n",
              "    <button class=\"colab-df-convert\" onclick=\"convertToInteractive('df-9b0a08cb-6c6c-44f6-97e5-554c6bb0fca2')\"\n",
              "            title=\"Convert this dataframe to an interactive table.\"\n",
              "            style=\"display:none;\">\n",
              "\n",
              "  <svg xmlns=\"http://www.w3.org/2000/svg\" height=\"24px\" viewBox=\"0 -960 960 960\">\n",
              "    <path d=\"M120-120v-720h720v720H120Zm60-500h600v-160H180v160Zm220 220h160v-160H400v160Zm0 220h160v-160H400v160ZM180-400h160v-160H180v160Zm440 0h160v-160H620v160ZM180-180h160v-160H180v160Zm440 0h160v-160H620v160Z\"/>\n",
              "  </svg>\n",
              "    </button>\n",
              "\n",
              "  <style>\n",
              "    .colab-df-container {\n",
              "      display:flex;\n",
              "      gap: 12px;\n",
              "    }\n",
              "\n",
              "    .colab-df-convert {\n",
              "      background-color: #E8F0FE;\n",
              "      border: none;\n",
              "      border-radius: 50%;\n",
              "      cursor: pointer;\n",
              "      display: none;\n",
              "      fill: #1967D2;\n",
              "      height: 32px;\n",
              "      padding: 0 0 0 0;\n",
              "      width: 32px;\n",
              "    }\n",
              "\n",
              "    .colab-df-convert:hover {\n",
              "      background-color: #E2EBFA;\n",
              "      box-shadow: 0px 1px 2px rgba(60, 64, 67, 0.3), 0px 1px 3px 1px rgba(60, 64, 67, 0.15);\n",
              "      fill: #174EA6;\n",
              "    }\n",
              "\n",
              "    .colab-df-buttons div {\n",
              "      margin-bottom: 4px;\n",
              "    }\n",
              "\n",
              "    [theme=dark] .colab-df-convert {\n",
              "      background-color: #3B4455;\n",
              "      fill: #D2E3FC;\n",
              "    }\n",
              "\n",
              "    [theme=dark] .colab-df-convert:hover {\n",
              "      background-color: #434B5C;\n",
              "      box-shadow: 0px 1px 3px 1px rgba(0, 0, 0, 0.15);\n",
              "      filter: drop-shadow(0px 1px 2px rgba(0, 0, 0, 0.3));\n",
              "      fill: #FFFFFF;\n",
              "    }\n",
              "  </style>\n",
              "\n",
              "    <script>\n",
              "      const buttonEl =\n",
              "        document.querySelector('#df-9b0a08cb-6c6c-44f6-97e5-554c6bb0fca2 button.colab-df-convert');\n",
              "      buttonEl.style.display =\n",
              "        google.colab.kernel.accessAllowed ? 'block' : 'none';\n",
              "\n",
              "      async function convertToInteractive(key) {\n",
              "        const element = document.querySelector('#df-9b0a08cb-6c6c-44f6-97e5-554c6bb0fca2');\n",
              "        const dataTable =\n",
              "          await google.colab.kernel.invokeFunction('convertToInteractive',\n",
              "                                                    [key], {});\n",
              "        if (!dataTable) return;\n",
              "\n",
              "        const docLinkHtml = 'Like what you see? Visit the ' +\n",
              "          '<a target=\"_blank\" href=https://colab.research.google.com/notebooks/data_table.ipynb>data table notebook</a>'\n",
              "          + ' to learn more about interactive tables.';\n",
              "        element.innerHTML = '';\n",
              "        dataTable['output_type'] = 'display_data';\n",
              "        await google.colab.output.renderOutput(dataTable, element);\n",
              "        const docLink = document.createElement('div');\n",
              "        docLink.innerHTML = docLinkHtml;\n",
              "        element.appendChild(docLink);\n",
              "      }\n",
              "    </script>\n",
              "  </div>\n",
              "\n",
              "\n",
              "    <div id=\"df-db8465f5-abc9-475a-8090-7a5b6b9dbad1\">\n",
              "      <button class=\"colab-df-quickchart\" onclick=\"quickchart('df-db8465f5-abc9-475a-8090-7a5b6b9dbad1')\"\n",
              "                title=\"Suggest charts\"\n",
              "                style=\"display:none;\">\n",
              "\n",
              "<svg xmlns=\"http://www.w3.org/2000/svg\" height=\"24px\"viewBox=\"0 0 24 24\"\n",
              "     width=\"24px\">\n",
              "    <g>\n",
              "        <path d=\"M19 3H5c-1.1 0-2 .9-2 2v14c0 1.1.9 2 2 2h14c1.1 0 2-.9 2-2V5c0-1.1-.9-2-2-2zM9 17H7v-7h2v7zm4 0h-2V7h2v10zm4 0h-2v-4h2v4z\"/>\n",
              "    </g>\n",
              "</svg>\n",
              "      </button>\n",
              "\n",
              "<style>\n",
              "  .colab-df-quickchart {\n",
              "      --bg-color: #E8F0FE;\n",
              "      --fill-color: #1967D2;\n",
              "      --hover-bg-color: #E2EBFA;\n",
              "      --hover-fill-color: #174EA6;\n",
              "      --disabled-fill-color: #AAA;\n",
              "      --disabled-bg-color: #DDD;\n",
              "  }\n",
              "\n",
              "  [theme=dark] .colab-df-quickchart {\n",
              "      --bg-color: #3B4455;\n",
              "      --fill-color: #D2E3FC;\n",
              "      --hover-bg-color: #434B5C;\n",
              "      --hover-fill-color: #FFFFFF;\n",
              "      --disabled-bg-color: #3B4455;\n",
              "      --disabled-fill-color: #666;\n",
              "  }\n",
              "\n",
              "  .colab-df-quickchart {\n",
              "    background-color: var(--bg-color);\n",
              "    border: none;\n",
              "    border-radius: 50%;\n",
              "    cursor: pointer;\n",
              "    display: none;\n",
              "    fill: var(--fill-color);\n",
              "    height: 32px;\n",
              "    padding: 0;\n",
              "    width: 32px;\n",
              "  }\n",
              "\n",
              "  .colab-df-quickchart:hover {\n",
              "    background-color: var(--hover-bg-color);\n",
              "    box-shadow: 0 1px 2px rgba(60, 64, 67, 0.3), 0 1px 3px 1px rgba(60, 64, 67, 0.15);\n",
              "    fill: var(--button-hover-fill-color);\n",
              "  }\n",
              "\n",
              "  .colab-df-quickchart-complete:disabled,\n",
              "  .colab-df-quickchart-complete:disabled:hover {\n",
              "    background-color: var(--disabled-bg-color);\n",
              "    fill: var(--disabled-fill-color);\n",
              "    box-shadow: none;\n",
              "  }\n",
              "\n",
              "  .colab-df-spinner {\n",
              "    border: 2px solid var(--fill-color);\n",
              "    border-color: transparent;\n",
              "    border-bottom-color: var(--fill-color);\n",
              "    animation:\n",
              "      spin 1s steps(1) infinite;\n",
              "  }\n",
              "\n",
              "  @keyframes spin {\n",
              "    0% {\n",
              "      border-color: transparent;\n",
              "      border-bottom-color: var(--fill-color);\n",
              "      border-left-color: var(--fill-color);\n",
              "    }\n",
              "    20% {\n",
              "      border-color: transparent;\n",
              "      border-left-color: var(--fill-color);\n",
              "      border-top-color: var(--fill-color);\n",
              "    }\n",
              "    30% {\n",
              "      border-color: transparent;\n",
              "      border-left-color: var(--fill-color);\n",
              "      border-top-color: var(--fill-color);\n",
              "      border-right-color: var(--fill-color);\n",
              "    }\n",
              "    40% {\n",
              "      border-color: transparent;\n",
              "      border-right-color: var(--fill-color);\n",
              "      border-top-color: var(--fill-color);\n",
              "    }\n",
              "    60% {\n",
              "      border-color: transparent;\n",
              "      border-right-color: var(--fill-color);\n",
              "    }\n",
              "    80% {\n",
              "      border-color: transparent;\n",
              "      border-right-color: var(--fill-color);\n",
              "      border-bottom-color: var(--fill-color);\n",
              "    }\n",
              "    90% {\n",
              "      border-color: transparent;\n",
              "      border-bottom-color: var(--fill-color);\n",
              "    }\n",
              "  }\n",
              "</style>\n",
              "\n",
              "      <script>\n",
              "        async function quickchart(key) {\n",
              "          const quickchartButtonEl =\n",
              "            document.querySelector('#' + key + ' button');\n",
              "          quickchartButtonEl.disabled = true;  // To prevent multiple clicks.\n",
              "          quickchartButtonEl.classList.add('colab-df-spinner');\n",
              "          try {\n",
              "            const charts = await google.colab.kernel.invokeFunction(\n",
              "                'suggestCharts', [key], {});\n",
              "          } catch (error) {\n",
              "            console.error('Error during call to suggestCharts:', error);\n",
              "          }\n",
              "          quickchartButtonEl.classList.remove('colab-df-spinner');\n",
              "          quickchartButtonEl.classList.add('colab-df-quickchart-complete');\n",
              "        }\n",
              "        (() => {\n",
              "          let quickchartButtonEl =\n",
              "            document.querySelector('#df-db8465f5-abc9-475a-8090-7a5b6b9dbad1 button');\n",
              "          quickchartButtonEl.style.display =\n",
              "            google.colab.kernel.accessAllowed ? 'block' : 'none';\n",
              "        })();\n",
              "      </script>\n",
              "    </div>\n",
              "\n",
              "    </div>\n",
              "  </div>\n"
            ],
            "text/plain": [
              "   Usage_kWh  Lagging_Current_Reactive.Power_kVarh  \\\n",
              "0   0.007306                              0.049021   \n",
              "1   0.007638                              0.054599   \n",
              "2   0.007840                              0.057752   \n",
              "3   0.007288                              0.056123   \n",
              "4   0.008484                              0.061112   \n",
              "\n",
              "   Leading_Current_Reactive_Power_kVarh  CO2(tCO2)  \\\n",
              "0                                   0.0        0.0   \n",
              "1                                   0.0        0.0   \n",
              "2                                   0.0        0.0   \n",
              "3                                   0.0        0.0   \n",
              "4                                   0.0        0.0   \n",
              "\n",
              "   Lagging_Current_Power_Factor  Leading_Current_Power_Factor       NSM  \\\n",
              "0                      0.523783                           1.0  0.000000   \n",
              "1                      0.466489                           1.0  0.043478   \n",
              "2                      0.437662                           1.0  0.086957   \n",
              "3                      0.442885                           1.0  0.130435   \n",
              "4                      0.418165                           1.0  0.173913   \n",
              "\n",
              "   WeekStatus  Load_Type  \n",
              "0         0.0        0.0  \n",
              "1         0.0        0.0  \n",
              "2         0.0        0.0  \n",
              "3         0.0        0.0  \n",
              "4         0.0        0.0  "
            ]
          },
          "execution_count": 5,
          "metadata": {},
          "output_type": "execute_result"
        }
      ],
      "source": [
        "df.head()"
      ]
    },
    {
      "cell_type": "code",
      "execution_count": 6,
      "id": "88fa438b",
      "metadata": {
        "id": "88fa438b"
      },
      "outputs": [],
      "source": [
        "# Sliding window transformation\n",
        "def create_sliding_windows(data, window_size=1):\n",
        "    X, y = [], []\n",
        "    for i in range(len(data)-window_size):\n",
        "        X.append(data[i:i+window_size, 1:])\n",
        "        y.append(data[i+window_size, 0])\n",
        "    return np.array(X), np.array(y)"
      ]
    },
    {
      "cell_type": "code",
      "execution_count": 7,
      "id": "93e93453",
      "metadata": {
        "id": "93e93453"
      },
      "outputs": [],
      "source": [
        "data={}"
      ]
    },
    {
      "cell_type": "code",
      "execution_count": 8,
      "id": "8da8562b",
      "metadata": {
        "id": "8da8562b"
      },
      "outputs": [],
      "source": [
        "df_np = df.to_numpy()"
      ]
    },
    {
      "cell_type": "code",
      "execution_count": null,
      "id": "07c70861",
      "metadata": {
        "id": "07c70861"
      },
      "outputs": [],
      "source": [
        "window_sizes=[1,4,8,16,24,48,64,96,672]"
      ]
    },
    {
      "cell_type": "code",
      "execution_count": 10,
      "id": "ce0b255c",
      "metadata": {
        "id": "ce0b255c"
      },
      "outputs": [],
      "source": [
        "for window in window_sizes:\n",
        "  X, y = create_sliding_windows(df_np, window)\n",
        "  X_train, X_test, y_train, y_test = train_test_split(X, y, test_size=0.18, shuffle=False)\n",
        "  data[f\"win{window}\"] = {\n",
        "      \"X_train\": X_train,\n",
        "      \"X_test\": X_test,\n",
        "      \"y_train\": y_train,\n",
        "      \"y_test\": y_test\n",
        "  }"
      ]
    },
    {
      "cell_type": "code",
      "execution_count": 11,
      "id": "429b5c1f",
      "metadata": {
        "colab": {
          "base_uri": "https://localhost:8080/"
        },
        "id": "429b5c1f",
        "outputId": "efd0f5af-af2b-4cff-cce8-c842dee7c52a"
      },
      "outputs": [
        {
          "data": {
            "text/plain": [
              "((7182, 1, 8), (7182,), (1577, 1, 8), (1577,))"
            ]
          },
          "execution_count": 11,
          "metadata": {},
          "output_type": "execute_result"
        }
      ],
      "source": [
        "data['win1']['X_train'].shape, data['win1']['y_train'].shape, data['win1']['X_test'].shape, data['win1']['y_test'].shape"
      ]
    },
    {
      "cell_type": "markdown",
      "id": "7d2810ef",
      "metadata": {
        "id": "7d2810ef"
      },
      "source": [
        "trainig"
      ]
    },
    {
      "cell_type": "code",
      "execution_count": 12,
      "id": "a1b1dcd3",
      "metadata": {
        "id": "a1b1dcd3"
      },
      "outputs": [],
      "source": [
        "from tensorflow.keras.models import Sequential\n",
        "from tensorflow.keras.layers import LSTM, Bidirectional, Dense, Dropout"
      ]
    },
    {
      "cell_type": "code",
      "execution_count": 13,
      "id": "f603a471",
      "metadata": {
        "id": "f603a471"
      },
      "outputs": [],
      "source": [
        "def build_lstm_model(model_type, input_shape):\n",
        "    model = Sequential()\n",
        "\n",
        "    if model_type == 'single':\n",
        "        model.add(LSTM(64, input_shape=input_shape))\n",
        "    elif model_type == 'double':\n",
        "        model.add(LSTM(64, return_sequences=True, input_shape=input_shape))\n",
        "        model.add(LSTM(64))\n",
        "    elif model_type == 'bidirectional':\n",
        "        model.add(Bidirectional(LSTM(64), input_shape=input_shape))\n",
        "\n",
        "    model.add(Dropout(0.1))\n",
        "    model.add(Dense(1))\n",
        "    return model"
      ]
    },
    {
      "cell_type": "code",
      "execution_count": 14,
      "id": "f7069360",
      "metadata": {
        "id": "f7069360"
      },
      "outputs": [],
      "source": [
        "import tensorflow.keras.backend as K\n",
        "def rmse(y_true, y_pred):\n",
        "    return K.sqrt(K.mean(K.square(y_true - y_pred)))"
      ]
    },
    {
      "cell_type": "code",
      "execution_count": 15,
      "id": "e8pnQ4Ch_mqT",
      "metadata": {
        "colab": {
          "base_uri": "https://localhost:8080/"
        },
        "id": "e8pnQ4Ch_mqT",
        "outputId": "fa3021e0-622c-41aa-db3a-64aaf18fae91"
      },
      "outputs": [
        {
          "name": "stdout",
          "output_type": "stream",
          "text": [
            "Drive already mounted at /content/drive; to attempt to forcibly remount, call drive.mount(\"/content/drive\", force_remount=True).\n"
          ]
        }
      ],
      "source": [
        "# prompt: mount the disk\n",
        "\n",
        "from google.colab import drive\n",
        "drive.mount('/content/drive')"
      ]
    },
    {
      "cell_type": "code",
      "execution_count": 16,
      "id": "yg9Va_Fw_9ln",
      "metadata": {
        "id": "yg9Va_Fw_9ln"
      },
      "outputs": [],
      "source": [
        "import os\n",
        "import pickle\n",
        "from tensorflow.keras.models import load_model\n",
        "\n",
        "# Save model to disk\n",
        "def save_model(model, window_size):\n",
        "    path = f\"{model_dir}/win{window_size}.keras\"\n",
        "    model.save(path)\n",
        "\n",
        "# Load model from disk\n",
        "def load_saved_model(window_size):\n",
        "    path = f\"{model_dir}/win{window_size}.keras\"\n",
        "    if os.path.exists(path):\n",
        "        return load_model(path, custom_objects={'rmse': rmse})\n",
        "    else:\n",
        "        return None\n",
        "\n",
        "# Save history to disk\n",
        "def save_history(history, window_size):\n",
        "    path = f\"{history_dir}/win{window_size}_history.pkl\"\n",
        "    with open(path, 'wb') as f:\n",
        "        pickle.dump(history.history, f)\n",
        "\n",
        "# Load history from disk\n",
        "def load_saved_history(window_size):\n",
        "    path = f\"{history_dir}/win{window_size}_history.pkl\"\n",
        "    if os.path.exists(path):\n",
        "        with open(path, 'rb') as f:\n",
        "            return pickle.load(f)\n",
        "    else:\n",
        "        return None"
      ]
    },
    {
      "cell_type": "code",
      "execution_count": 16,
      "id": "f7377b16",
      "metadata": {
        "id": "f7377b16"
      },
      "outputs": [],
      "source": []
    },
    {
      "cell_type": "markdown",
      "id": "a4742e9e",
      "metadata": {
        "id": "a4742e9e"
      },
      "source": [
        "Single layer\n"
      ]
    },
    {
      "cell_type": "code",
      "execution_count": 16,
      "id": "cc920fce",
      "metadata": {
        "id": "cc920fce"
      },
      "outputs": [],
      "source": []
    },
    {
      "cell_type": "code",
      "execution_count": null,
      "id": "313bef6e",
      "metadata": {
        "id": "313bef6e"
      },
      "outputs": [],
      "source": [
        "# Paths\n",
        "model_dir = \"/content/drive/MyDrive/reserach/wout_down/only_min_max/single/models\"\n",
        "history_dir = \"/content/drive/MyDrive/reserach/wout_down/only_min_max/single/history\"\n",
        "os.makedirs(model_dir, exist_ok=True)\n",
        "os.makedirs(history_dir, exist_ok=True)\n"
      ]
    },
    {
      "cell_type": "code",
      "execution_count": 25,
      "id": "b13ea399",
      "metadata": {
        "colab": {
          "base_uri": "https://localhost:8080/"
        },
        "id": "b13ea399",
        "outputId": "c63cb909-ea41-4afd-f5d0-64b5b9715b74"
      },
      "outputs": [
        {
          "name": "stdout",
          "output_type": "stream",
          "text": [
            "==> Window: 1\n",
            "--> (7182, 1, 8) (7182,) (1577, 1, 8)\n",
            "✅ Loaded model and history for window 1\n",
            "==> Window: 4\n",
            "--> (7179, 4, 8) (7179,) (1577, 4, 8)\n",
            "✅ Loaded model and history for window 4\n",
            "==> Window: 8\n",
            "--> (7176, 8, 8) (7176,) (1576, 8, 8)\n",
            "✅ Loaded model and history for window 8\n",
            "==> Window: 12\n",
            "--> (7173, 12, 8) (7173,) (1575, 12, 8)\n",
            "✅ Loaded model and history for window 12\n"
          ]
        }
      ],
      "source": [
        "single_models = {}\n",
        "\n",
        "for window_size in window_sizes:\n",
        "    print(f\"==> Window: {window_size}\")\n",
        "\n",
        "    X_train = data[f\"win{window_size}\"][\"X_train\"]\n",
        "    X_test = data[f\"win{window_size}\"][\"X_test\"]\n",
        "    y_train = data[f\"win{window_size}\"][\"y_train\"]\n",
        "    y_test = data[f\"win{window_size}\"][\"y_test\"]\n",
        "\n",
        "    print(\"-->\", X_train.shape, y_train.shape, X_test.shape)\n",
        "\n",
        "    # Try to load the model\n",
        "    model = load_saved_model(window_size)\n",
        "    history_data = load_saved_history(window_size)\n",
        "\n",
        "    if model is not None and history_data is not None:\n",
        "        print(f\"✅ Loaded model and history for window {window_size}\")\n",
        "        history = None  # Already loaded history_data\n",
        "    else:\n",
        "        print(f\"🚀 Training new model for window {window_size}\")\n",
        "        model = build_lstm_model('single', (window_size, X_train.shape[2]))\n",
        "        model.compile(optimizer='adam', loss=rmse, metrics=['mae'])\n",
        "        history = model.fit(\n",
        "            X_train, y_train,\n",
        "            epochs=5,\n",
        "            batch_size=32,\n",
        "            validation_split=0.2,\n",
        "            verbose=1\n",
        "        )\n",
        "        save_model(model, window_size)\n",
        "        save_history(history, window_size)\n",
        "        history_data = history.history\n",
        "        print(f\"💾 Model and history saved for window {window_size}\")\n",
        "\n",
        "    single_models[f\"win{window_size}\"] = {\n",
        "        \"model\": model,\n",
        "        \"history\": history_data  # always a dict\n",
        "    }\n"
      ]
    },
    {
      "cell_type": "code",
      "execution_count": 26,
      "id": "_MIvWmehxh5P",
      "metadata": {
        "colab": {
          "base_uri": "https://localhost:8080/",
          "height": 1000
        },
        "id": "_MIvWmehxh5P",
        "outputId": "cfd8eeb4-d39f-4208-9126-4d89666318ca"
      },
      "outputs": [
        {
          "data": {
            "image/png": "[encoded data removed]",
            "text/plain": [
              "<Figure size 640x480 with 1 Axes>"
            ]
          },
          "metadata": {},
          "output_type": "display_data"
        },
        {
          "data": {
            "image/png": "[encoded data removed]",
            "text/plain": [
              "<Figure size 640x480 with 1 Axes>"
            ]
          },
          "metadata": {},
          "output_type": "display_data"
        },
        {
          "data": {
            "image/png": "[encoded data removed]",
            "text/plain": [
              "<Figure size 640x480 with 1 Axes>"
            ]
          },
          "metadata": {},
          "output_type": "display_data"
        },
        {
          "data": {
            "image/png": "[encoded data removed]",
            "text/plain": [
              "<Figure size 640x480 with 1 Axes>"
            ]
          },
          "metadata": {},
          "output_type": "display_data"
        }
      ],
      "source": [
        "import matplotlib.pyplot as plt\n",
        "\n",
        "for key, content in single_models.items():\n",
        "    history_data = content[\"history\"]\n",
        "    if history_data:\n",
        "        plt.figure()\n",
        "        plt.plot(history_data['loss'], label='Train Loss')\n",
        "        if 'val_loss' in history_data:\n",
        "            plt.plot(history_data['val_loss'], label='Val Loss')\n",
        "        plt.title(f\"Loss Curve for {key}\")\n",
        "        plt.legend()\n",
        "        plt.show()\n"
      ]
    },
    {
      "cell_type": "markdown",
      "id": "Vnl47R_8_zoJ",
      "metadata": {
        "id": "Vnl47R_8_zoJ"
      },
      "source": [
        "double"
      ]
    },
    {
      "cell_type": "code",
      "execution_count": null,
      "id": "b4152252",
      "metadata": {
        "id": "b4152252"
      },
      "outputs": [],
      "source": [
        "# Paths\n",
        "model_dir = \"/content/drive/MyDrive/reserach/wout_down/only_min_max/double/models\"\n",
        "history_dir = \"/content/drive/MyDrive/reserach/wout_down/only_min_max/double/history\"\n",
        "os.makedirs(model_dir, exist_ok=True)\n",
        "os.makedirs(history_dir, exist_ok=True)"
      ]
    },
    {
      "cell_type": "code",
      "execution_count": 21,
      "id": "PmHcTAX9xt5A",
      "metadata": {
        "colab": {
          "base_uri": "https://localhost:8080/"
        },
        "id": "PmHcTAX9xt5A",
        "outputId": "c3bc41e6-e4e2-4f99-a6b8-19efd79ccb2a"
      },
      "outputs": [
        {
          "name": "stdout",
          "output_type": "stream",
          "text": [
            "==> Window: 1\n",
            "--> (7182, 1, 8) (7182,) (1577, 1, 8)\n",
            "✅ Loaded model and history for window 1\n",
            "==> Window: 4\n",
            "--> (7179, 4, 8) (7179,) (1577, 4, 8)\n",
            "✅ Loaded model and history for window 4\n",
            "==> Window: 8\n",
            "--> (7176, 8, 8) (7176,) (1576, 8, 8)\n",
            "✅ Loaded model and history for window 8\n",
            "==> Window: 12\n",
            "--> (7173, 12, 8) (7173,) (1575, 12, 8)\n",
            "✅ Loaded model and history for window 12\n"
          ]
        }
      ],
      "source": [
        "double_models = {}\n",
        "\n",
        "for window_size in window_sizes:\n",
        "    print(f\"==> Window: {window_size}\")\n",
        "\n",
        "    X_train = data[f\"win{window_size}\"][\"X_train\"]\n",
        "    X_test = data[f\"win{window_size}\"][\"X_test\"]\n",
        "    y_train = data[f\"win{window_size}\"][\"y_train\"]\n",
        "    y_test = data[f\"win{window_size}\"][\"y_test\"]\n",
        "\n",
        "    print(\"-->\", X_train.shape, y_train.shape, X_test.shape)\n",
        "\n",
        "    # Try to load the model\n",
        "    model = load_saved_model(window_size)\n",
        "    history_data = load_saved_history(window_size)\n",
        "\n",
        "    if model is not None and history_data is not None:\n",
        "        print(f\"✅ Loaded model and history for window {window_size}\")\n",
        "        history = None  # Already loaded history_data\n",
        "    else:\n",
        "        print(f\"🚀 Training new model for window {window_size}\")\n",
        "        model = build_lstm_model('double', (window_size, X_train.shape[2]))\n",
        "        model.compile(optimizer='adam', loss=rmse, metrics=['mae'])\n",
        "        history = model.fit(\n",
        "            X_train, y_train,\n",
        "            epochs=5,\n",
        "            batch_size=32,\n",
        "            validation_split=0.2,\n",
        "            verbose=1\n",
        "        )\n",
        "        save_model(model, window_size)\n",
        "        save_history(history, window_size)\n",
        "        history_data = history.history\n",
        "        print(f\"💾 Model and history saved for window {window_size}\")\n",
        "\n",
        "    double_models[f\"win{window_size}\"] = {\n",
        "        \"model\": model,\n",
        "        \"history\": history_data  # always a dict\n",
        "    }\n"
      ]
    },
    {
      "cell_type": "markdown",
      "id": "8BqRxE6fAPF_",
      "metadata": {
        "id": "8BqRxE6fAPF_"
      },
      "source": [
        "bi dir"
      ]
    },
    {
      "cell_type": "code",
      "execution_count": null,
      "id": "PmoIp4k6xt5A",
      "metadata": {
        "id": "PmoIp4k6xt5A"
      },
      "outputs": [],
      "source": [
        "# Paths\n",
        "model_dir = \"/content/drive/MyDrive/reserach/wout_down/only_min_max/bidir/models\"\n",
        "history_dir = \"/content/drive/MyDrive/reserach/wout_down/only_min_max/bidir/history\"\n",
        "os.makedirs(model_dir, exist_ok=True)\n",
        "os.makedirs(history_dir, exist_ok=True)"
      ]
    },
    {
      "cell_type": "code",
      "execution_count": 23,
      "id": "cf5216af",
      "metadata": {
        "colab": {
          "base_uri": "https://localhost:8080/"
        },
        "id": "cf5216af",
        "outputId": "7809336e-e7fd-4475-acc6-3aaaba5aea11"
      },
      "outputs": [
        {
          "name": "stdout",
          "output_type": "stream",
          "text": [
            "==> Window: 1\n",
            "--> (7182, 1, 8) (7182,) (1577, 1, 8)\n",
            "✅ Loaded model and history for window 1\n",
            "==> Window: 4\n",
            "--> (7179, 4, 8) (7179,) (1577, 4, 8)\n",
            "✅ Loaded model and history for window 4\n",
            "==> Window: 8\n",
            "--> (7176, 8, 8) (7176,) (1576, 8, 8)\n",
            "✅ Loaded model and history for window 8\n",
            "==> Window: 12\n",
            "--> (7173, 12, 8) (7173,) (1575, 12, 8)\n",
            "✅ Loaded model and history for window 12\n"
          ]
        }
      ],
      "source": [
        "bidir_models = {}\n",
        "\n",
        "for window_size in window_sizes:\n",
        "    print(f\"==> Window: {window_size}\")\n",
        "\n",
        "    X_train = data[f\"win{window_size}\"][\"X_train\"]\n",
        "    X_test = data[f\"win{window_size}\"][\"X_test\"]\n",
        "    y_train = data[f\"win{window_size}\"][\"y_train\"]\n",
        "    y_test = data[f\"win{window_size}\"][\"y_test\"]\n",
        "\n",
        "    print(\"-->\", X_train.shape, y_train.shape, X_test.shape)\n",
        "\n",
        "    # Try to load the model\n",
        "    model = load_saved_model(window_size)\n",
        "    history_data = load_saved_history(window_size)\n",
        "\n",
        "    if model is not None and history_data is not None:\n",
        "        print(f\"✅ Loaded model and history for window {window_size}\")\n",
        "        history = None  # Already loaded history_data\n",
        "    else:\n",
        "        print(f\"🚀 Training new model for window {window_size}\")\n",
        "        model = build_lstm_model('bidirectional', (window_size, X_train.shape[2]))\n",
        "        model.compile(optimizer='adam', loss=rmse, metrics=['mae'])\n",
        "        history = model.fit(\n",
        "            X_train, y_train,\n",
        "            epochs=5,\n",
        "            batch_size=32,\n",
        "            validation_split=0.2,\n",
        "            verbose=1\n",
        "        )\n",
        "        save_model(model, window_size)\n",
        "        save_history(history, window_size)\n",
        "        history_data = history.history\n",
        "        print(f\"💾 Model and history saved for window {window_size}\")\n",
        "\n",
        "    bidir_models[f\"win{window_size}\"] = {\n",
        "        \"model\": model,\n",
        "        \"history\": history_data  # always a dict\n",
        "    }\n"
      ]
    }
  ],
  "metadata": {
    "accelerator": "GPU",
    "colab": {
      "gpuType": "T4",
      "provenance": []
    },
    "kernelspec": {
      "display_name": "Python 3",
      "name": "python3"
    },
    "language_info": {
      "codemirror_mode": {
        "name": "ipython",
        "version": 3
      },
      "file_extension": ".py",
      "mimetype": "text/x-python",
      "name": "python",
      "nbconvert_exporter": "python",
      "pygments_lexer": "ipython3",
      "version": "3.11.0"
    }
  },
  "nbformat": 4,
  "nbformat_minor": 5
}
