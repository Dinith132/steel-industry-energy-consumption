{
  "cells": [
    {
      "cell_type": "code",
      "execution_count": null,
      "id": "btuxbOULxwqW",
      "metadata": {
        "colab": {
          "base_uri": "https://localhost:8080/"
        },
        "id": "btuxbOULxwqW",
        "outputId": "a440b857-c3a5-4158-ea65-ad39ad9c8ee3"
      },
      "outputs": [
        {
          "name": "stdout",
          "output_type": "stream",
          "text": [
            "fatal: destination path 'steel-industry-energy-consumption' already exists and is not an empty directory.\n"
          ]
        }
      ],
      "source": [
        "# !git clone https://github.com/Dinith132/steel-industry-energy-consumption.git"
      ]
    },
    {
      "cell_type": "code",
      "execution_count": null,
      "id": "_okSezaYx0Pl",
      "metadata": {
        "colab": {
          "base_uri": "https://localhost:8080/"
        },
        "id": "_okSezaYx0Pl",
        "outputId": "16db346c-ff60-4f25-b432-5c820ecd0aaa"
      },
      "outputs": [
        {
          "name": "stdout",
          "output_type": "stream",
          "text": [
            "/content/steel-industry-energy-consumption/with_down/Training\n"
          ]
        }
      ],
      "source": [
        "# cd steel-industry-energy-consumption/with_down/Training/"
      ]
    },
    {
      "cell_type": "code",
      "execution_count": 1,
      "id": "d1f5037b",
      "metadata": {
        "id": "d1f5037b"
      },
      "outputs": [],
      "source": [
        "import pandas as pd\n",
        "import numpy as np\n",
        "from sklearn.preprocessing import OrdinalEncoder, MinMaxScaler\n",
        "from sklearn.model_selection import train_test_split"
      ]
    },
    {
      "cell_type": "code",
      "execution_count": 2,
      "id": "f06ae63b",
      "metadata": {
        "id": "f06ae63b"
      },
      "outputs": [],
      "source": [
        "df=pd.read_csv(\"../data_log_all.csv\")"
      ]
    },
    {
      "cell_type": "code",
      "execution_count": 3,
      "id": "348c0853",
      "metadata": {
        "colab": {
          "base_uri": "https://localhost:8080/",
          "height": 226
        },
        "id": "348c0853",
        "outputId": "86778517-6d97-4643-d519-d1e1569c7d76"
      },
      "outputs": [
        {
          "data": {
            "text/html": [
              "<div>\n",
              "<style scoped>\n",
              "    .dataframe tbody tr th:only-of-type {\n",
              "        vertical-align: middle;\n",
              "    }\n",
              "\n",
              "    .dataframe tbody tr th {\n",
              "        vertical-align: top;\n",
              "    }\n",
              "\n",
              "    .dataframe thead th {\n",
              "        text-align: right;\n",
              "    }\n",
              "</style>\n",
              "<table border=\"1\" class=\"dataframe\">\n",
              "  <thead>\n",
              "    <tr style=\"text-align: right;\">\n",
              "      <th></th>\n",
              "      <th>Usage_kWh</th>\n",
              "      <th>Lagging_Current_Reactive.Power_kVarh</th>\n",
              "      <th>Leading_Current_Reactive_Power_kVarh</th>\n",
              "      <th>CO2(tCO2)</th>\n",
              "      <th>Lagging_Current_Power_Factor</th>\n",
              "      <th>Leading_Current_Power_Factor</th>\n",
              "      <th>NSM</th>\n",
              "      <th>WeekStatus</th>\n",
              "      <th>Load_Type</th>\n",
              "    </tr>\n",
              "  </thead>\n",
              "  <tbody>\n",
              "    <tr>\n",
              "      <th>0</th>\n",
              "      <td>0.068186</td>\n",
              "      <td>0.352315</td>\n",
              "      <td>0.0</td>\n",
              "      <td>0.0</td>\n",
              "      <td>0.638592</td>\n",
              "      <td>1.0</td>\n",
              "      <td>0.000000</td>\n",
              "      <td>0.0</td>\n",
              "      <td>0.0</td>\n",
              "    </tr>\n",
              "    <tr>\n",
              "      <th>1</th>\n",
              "      <td>0.070905</td>\n",
              "      <td>0.372114</td>\n",
              "      <td>0.0</td>\n",
              "      <td>0.0</td>\n",
              "      <td>0.585156</td>\n",
              "      <td>1.0</td>\n",
              "      <td>0.043478</td>\n",
              "      <td>0.0</td>\n",
              "      <td>0.0</td>\n",
              "    </tr>\n",
              "    <tr>\n",
              "      <th>2</th>\n",
              "      <td>0.072554</td>\n",
              "      <td>0.382602</td>\n",
              "      <td>0.0</td>\n",
              "      <td>0.0</td>\n",
              "      <td>0.557186</td>\n",
              "      <td>1.0</td>\n",
              "      <td>0.086957</td>\n",
              "      <td>0.0</td>\n",
              "      <td>0.0</td>\n",
              "    </tr>\n",
              "    <tr>\n",
              "      <th>3</th>\n",
              "      <td>0.068034</td>\n",
              "      <td>0.377244</td>\n",
              "      <td>0.0</td>\n",
              "      <td>0.0</td>\n",
              "      <td>0.562310</td>\n",
              "      <td>1.0</td>\n",
              "      <td>0.130435</td>\n",
              "      <td>0.0</td>\n",
              "      <td>0.0</td>\n",
              "    </tr>\n",
              "    <tr>\n",
              "      <th>4</th>\n",
              "      <td>0.077733</td>\n",
              "      <td>0.393285</td>\n",
              "      <td>0.0</td>\n",
              "      <td>0.0</td>\n",
              "      <td>0.537829</td>\n",
              "      <td>1.0</td>\n",
              "      <td>0.173913</td>\n",
              "      <td>0.0</td>\n",
              "      <td>0.0</td>\n",
              "    </tr>\n",
              "  </tbody>\n",
              "</table>\n",
              "</div>"
            ],
            "text/plain": [
              "   Usage_kWh  Lagging_Current_Reactive.Power_kVarh  \\\n",
              "0   0.068186                              0.352315   \n",
              "1   0.070905                              0.372114   \n",
              "2   0.072554                              0.382602   \n",
              "3   0.068034                              0.377244   \n",
              "4   0.077733                              0.393285   \n",
              "\n",
              "   Leading_Current_Reactive_Power_kVarh  CO2(tCO2)  \\\n",
              "0                                   0.0        0.0   \n",
              "1                                   0.0        0.0   \n",
              "2                                   0.0        0.0   \n",
              "3                                   0.0        0.0   \n",
              "4                                   0.0        0.0   \n",
              "\n",
              "   Lagging_Current_Power_Factor  Leading_Current_Power_Factor       NSM  \\\n",
              "0                      0.638592                           1.0  0.000000   \n",
              "1                      0.585156                           1.0  0.043478   \n",
              "2                      0.557186                           1.0  0.086957   \n",
              "3                      0.562310                           1.0  0.130435   \n",
              "4                      0.537829                           1.0  0.173913   \n",
              "\n",
              "   WeekStatus  Load_Type  \n",
              "0         0.0        0.0  \n",
              "1         0.0        0.0  \n",
              "2         0.0        0.0  \n",
              "3         0.0        0.0  \n",
              "4         0.0        0.0  "
            ]
          },
          "execution_count": 3,
          "metadata": {},
          "output_type": "execute_result"
        }
      ],
      "source": [
        "df.head()"
      ]
    },
    {
      "cell_type": "code",
      "execution_count": 4,
      "id": "88fa438b",
      "metadata": {
        "id": "88fa438b"
      },
      "outputs": [],
      "source": [
        "# Sliding window transformation\n",
        "def create_sliding_windows(data, window_size=1):\n",
        "    X, y = [], []\n",
        "    for i in range(len(data)-window_size):\n",
        "        X.append(data[i:i+window_size, 1:])\n",
        "        y.append(data[i+window_size, 0])\n",
        "    return np.array(X), np.array(y)"
      ]
    },
    {
      "cell_type": "code",
      "execution_count": 5,
      "id": "93e93453",
      "metadata": {
        "id": "93e93453"
      },
      "outputs": [],
      "source": [
        "data={}"
      ]
    },
    {
      "cell_type": "code",
      "execution_count": 6,
      "id": "8da8562b",
      "metadata": {
        "id": "8da8562b"
      },
      "outputs": [],
      "source": [
        "df_np = df.to_numpy()"
      ]
    },
    {
      "cell_type": "code",
      "execution_count": 7,
      "id": "07c70861",
      "metadata": {
        "id": "07c70861"
      },
      "outputs": [],
      "source": [
        "window_sizes=[1,4,8,12,16,24,36,48,74,168,336,672]"
      ]
    },
    {
      "cell_type": "code",
      "execution_count": 8,
      "id": "ce0b255c",
      "metadata": {
        "id": "ce0b255c"
      },
      "outputs": [],
      "source": [
        "for window in window_sizes:\n",
        "  X, y = create_sliding_windows(df_np, window)\n",
        "  X_train, X_test, y_train, y_test = train_test_split(X, y, test_size=0.18, shuffle=False)\n",
        "  data[f\"win{window}\"] = {\n",
        "      \"X_train\": X_train,\n",
        "      \"X_test\": X_test,\n",
        "      \"y_train\": y_train,\n",
        "      \"y_test\": y_test\n",
        "  }"
      ]
    },
    {
      "cell_type": "code",
      "execution_count": 9,
      "id": "429b5c1f",
      "metadata": {
        "colab": {
          "base_uri": "https://localhost:8080/"
        },
        "id": "429b5c1f",
        "outputId": "408b2bc8-4479-46b6-922c-fdac0c237cae"
      },
      "outputs": [
        {
          "data": {
            "text/plain": [
              "((7182, 1, 8), (7182,), (1577, 1, 8), (1577,))"
            ]
          },
          "execution_count": 9,
          "metadata": {},
          "output_type": "execute_result"
        }
      ],
      "source": [
        "data['win1']['X_train'].shape, data['win1']['y_train'].shape, data['win1']['X_test'].shape, data['win1']['y_test'].shape"
      ]
    },
    {
      "cell_type": "markdown",
      "id": "7d2810ef",
      "metadata": {
        "id": "7d2810ef"
      },
      "source": [
        "trainig"
      ]
    },
    {
      "cell_type": "code",
      "execution_count": 10,
      "id": "a1b1dcd3",
      "metadata": {
        "id": "a1b1dcd3"
      },
      "outputs": [
        {
          "ename": "ModuleNotFoundError",
          "evalue": "No module named 'tensorflow'",
          "output_type": "error",
          "traceback": [
            "\u001b[31m---------------------------------------------------------------------------\u001b[39m",
            "\u001b[31mModuleNotFoundError\u001b[39m                       Traceback (most recent call last)",
            "\u001b[36mCell\u001b[39m\u001b[36m \u001b[39m\u001b[32mIn[10]\u001b[39m\u001b[32m, line 1\u001b[39m\n\u001b[32m----> \u001b[39m\u001b[32m1\u001b[39m \u001b[38;5;28;01mfrom\u001b[39;00m\u001b[38;5;250m \u001b[39m\u001b[34;01mtensorflow\u001b[39;00m\u001b[34;01m.\u001b[39;00m\u001b[34;01mkeras\u001b[39;00m\u001b[34;01m.\u001b[39;00m\u001b[34;01mmodels\u001b[39;00m\u001b[38;5;250m \u001b[39m\u001b[38;5;28;01mimport\u001b[39;00m Sequential\n\u001b[32m      2\u001b[39m \u001b[38;5;28;01mfrom\u001b[39;00m\u001b[38;5;250m \u001b[39m\u001b[34;01mtensorflow\u001b[39;00m\u001b[34;01m.\u001b[39;00m\u001b[34;01mkeras\u001b[39;00m\u001b[34;01m.\u001b[39;00m\u001b[34;01mlayers\u001b[39;00m\u001b[38;5;250m \u001b[39m\u001b[38;5;28;01mimport\u001b[39;00m LSTM, Bidirectional, Dense, Dropout\n",
            "\u001b[31mModuleNotFoundError\u001b[39m: No module named 'tensorflow'"
          ]
        }
      ],
      "source": [
        "from tensorflow.keras.models import Sequential\n",
        "from tensorflow.keras.layers import LSTM, Bidirectional, Dense, Dropout"
      ]
    },
    {
      "cell_type": "code",
      "execution_count": null,
      "id": "f603a471",
      "metadata": {
        "id": "f603a471"
      },
      "outputs": [],
      "source": [
        "# def build_lstm_model(model_type, input_shape):\n",
        "#     model = Sequential()\n",
        "\n",
        "#     if model_type == 'single':\n",
        "#         model.add(LSTM(64, input_shape=input_shape))\n",
        "#     elif model_type == 'double':\n",
        "#         model.add(LSTM(64, return_sequences=True, input_shape=input_shape))\n",
        "#         model.add(LSTM(64))\n",
        "#     elif model_type == 'bidirectional':\n",
        "#         model.add(Bidirectional(LSTM(64), input_shape=input_shape))\n",
        "\n",
        "#     model.add(Dropout(0.1))\n",
        "#     model.add(Dense(1))\n",
        "#     return model"
      ]
    },
    {
      "cell_type": "code",
      "execution_count": 14,
      "id": "f7069360",
      "metadata": {
        "id": "f7069360"
      },
      "outputs": [],
      "source": [
        "import tensorflow.keras.backend as K\n",
        "def rmse(y_true, y_pred):\n",
        "    return K.sqrt(K.mean(K.square(y_true - y_pred)))"
      ]
    },
    {
      "cell_type": "code",
      "execution_count": 15,
      "id": "e8pnQ4Ch_mqT",
      "metadata": {
        "colab": {
          "base_uri": "https://localhost:8080/"
        },
        "id": "e8pnQ4Ch_mqT",
        "outputId": "62230a5a-420c-4c70-ff89-01cea97282f1"
      },
      "outputs": [
        {
          "name": "stdout",
          "output_type": "stream",
          "text": [
            "Drive already mounted at /content/drive; to attempt to forcibly remount, call drive.mount(\"/content/drive\", force_remount=True).\n"
          ]
        }
      ],
      "source": [
        "# prompt: mount the disk\n",
        "\n",
        "from google.colab import drive\n",
        "drive.mount('/content/drive')"
      ]
    },
    {
      "cell_type": "code",
      "execution_count": null,
      "id": "yg9Va_Fw_9ln",
      "metadata": {
        "id": "yg9Va_Fw_9ln"
      },
      "outputs": [],
      "source": [
        "import os\n",
        "import pickle\n",
        "from tensorflow.keras.models import load_model\n",
        "\n",
        "# Save model to disk\n",
        "def save_model(model, window_size):\n",
        "    path = f\"{model_dir}/win{window_size}.keras\"\n",
        "    model.save(path)\n",
        "\n",
        "# Load model from disk\n",
        "def load_saved_model(window_size):\n",
        "    path = f\"{model_dir}/win{window_size}.keras\"\n",
        "    if os.path.exists(path):\n",
        "        return load_model(path, custom_objects={'rmse': rmse})\n",
        "    else:\n",
        "        return None\n",
        "\n",
        "# Save history to disk\n",
        "def save_history(history, window_size):\n",
        "    path = f\"{history_dir}/win{window_size}_history.pkl\"\n",
        "    with open(path, 'wb') as f:\n",
        "        pickle.dump(history.history, f)\n",
        "\n",
        "# Load history from disk\n",
        "def load_saved_history(window_size):\n",
        "    path = f\"{history_dir}/win{window_size}_history.pkl\"\n",
        "    if os.path.exists(path):\n",
        "        with open(path, 'rb') as f:\n",
        "            return pickle.load(f)\n",
        "    else:\n",
        "        return None"
      ]
    },
    {
      "cell_type": "code",
      "execution_count": 16,
      "id": "f7377b16",
      "metadata": {
        "id": "f7377b16"
      },
      "outputs": [],
      "source": []
    },
    {
      "cell_type": "markdown",
      "id": "a4742e9e",
      "metadata": {
        "id": "a4742e9e"
      },
      "source": [
        "Single layer\n"
      ]
    },
    {
      "cell_type": "code",
      "execution_count": 22,
      "id": "cc920fce",
      "metadata": {
        "id": "cc920fce"
      },
      "outputs": [],
      "source": []
    },
    {
      "cell_type": "code",
      "execution_count": 18,
      "id": "313bef6e",
      "metadata": {
        "id": "313bef6e"
      },
      "outputs": [],
      "source": [
        "# Paths\n",
        "model_dir = \"/content/drive/MyDrive/reserach/with_down/log_all/single/models\"\n",
        "history_dir = \"/content/drive/MyDrive/reserach/with_down/log_all/single/history\"\n",
        "os.makedirs(model_dir, exist_ok=True)\n",
        "os.makedirs(history_dir, exist_ok=True)\n"
      ]
    },
    {
      "cell_type": "code",
      "execution_count": 19,
      "id": "b13ea399",
      "metadata": {
        "colab": {
          "base_uri": "https://localhost:8080/"
        },
        "id": "b13ea399",
        "outputId": "1a06971f-3690-49c0-c14c-39609bbfc8e8"
      },
      "outputs": [
        {
          "name": "stdout",
          "output_type": "stream",
          "text": [
            "==> Window: 1\n",
            "--> (7182, 1, 8) (7182,) (1577, 1, 8)\n"
          ]
        },
        {
          "name": "stderr",
          "output_type": "stream",
          "text": [
            "WARNING:absl:Compiled the loaded model, but the compiled metrics have yet to be built. `model.compile_metrics` will be empty until you train or evaluate the model.\n"
          ]
        },
        {
          "name": "stdout",
          "output_type": "stream",
          "text": [
            "✅ Loaded model and history for window 1\n",
            "==> Window: 4\n",
            "--> (7179, 4, 8) (7179,) (1577, 4, 8)\n"
          ]
        },
        {
          "name": "stderr",
          "output_type": "stream",
          "text": [
            "WARNING:absl:Compiled the loaded model, but the compiled metrics have yet to be built. `model.compile_metrics` will be empty until you train or evaluate the model.\n"
          ]
        },
        {
          "name": "stdout",
          "output_type": "stream",
          "text": [
            "✅ Loaded model and history for window 4\n",
            "==> Window: 8\n",
            "--> (7176, 8, 8) (7176,) (1576, 8, 8)\n"
          ]
        },
        {
          "name": "stderr",
          "output_type": "stream",
          "text": [
            "WARNING:absl:Compiled the loaded model, but the compiled metrics have yet to be built. `model.compile_metrics` will be empty until you train or evaluate the model.\n"
          ]
        },
        {
          "name": "stdout",
          "output_type": "stream",
          "text": [
            "✅ Loaded model and history for window 8\n",
            "==> Window: 12\n",
            "--> (7173, 12, 8) (7173,) (1575, 12, 8)\n"
          ]
        },
        {
          "name": "stderr",
          "output_type": "stream",
          "text": [
            "WARNING:absl:Compiled the loaded model, but the compiled metrics have yet to be built. `model.compile_metrics` will be empty until you train or evaluate the model.\n"
          ]
        },
        {
          "name": "stdout",
          "output_type": "stream",
          "text": [
            "✅ Loaded model and history for window 12\n"
          ]
        }
      ],
      "source": [
        "single_models = {}\n",
        "\n",
        "for window_size in window_sizes:\n",
        "    print(f\"==> Window: {window_size}\")\n",
        "\n",
        "    X_train = data[f\"win{window_size}\"][\"X_train\"]\n",
        "    X_test = data[f\"win{window_size}\"][\"X_test\"]\n",
        "    y_train = data[f\"win{window_size}\"][\"y_train\"]\n",
        "    y_test = data[f\"win{window_size}\"][\"y_test\"]\n",
        "\n",
        "    print(\"-->\", X_train.shape, y_train.shape, X_test.shape)\n",
        "\n",
        "    # Try to load the model\n",
        "    model = load_saved_model(window_size)\n",
        "    history_data = load_saved_history(window_size)\n",
        "\n",
        "    if model is not None and history_data is not None:\n",
        "        print(f\"✅ Loaded model and history for window {window_size}\")\n",
        "        history = None  # Already loaded history_data\n",
        "    else:\n",
        "        print(f\"🚀 Training new model for window {window_size}\")\n",
        "        model = build_lstm_model('single', (window_size, X_train.shape[2]))\n",
        "        model.compile(optimizer='adam', loss=rmse, metrics=['mae'])\n",
        "        history = model.fit(\n",
        "            X_train, y_train,\n",
        "            epochs=50,\n",
        "            batch_size=32,\n",
        "            validation_split=0.2,\n",
        "            verbose=1\n",
        "        )\n",
        "        save_model(model, window_size)\n",
        "        save_history(history, window_size)\n",
        "        history_data = history.history\n",
        "        print(f\"💾 Model and history saved for window {window_size}\")\n",
        "\n",
        "    single_models[f\"win{window_size}\"] = {\n",
        "        \"model\": model,\n",
        "        \"history\": history_data  # always a dict\n",
        "    }\n"
      ]
    },
    {
      "cell_type": "code",
      "execution_count": 23,
      "id": "_MIvWmehxh5P",
      "metadata": {
        "id": "_MIvWmehxh5P"
      },
      "outputs": [],
      "source": [
        "# import matplotlib.pyplot as plt\n",
        "\n",
        "# for key, content in single_models.items():\n",
        "#     history_data = content[\"history\"]\n",
        "#     if history_data:\n",
        "#         plt.figure()\n",
        "#         plt.plot(history_data['loss'], label='Train Loss')\n",
        "#         if 'val_loss' in history_data:\n",
        "#             plt.plot(history_data['val_loss'], label='Val Loss')\n",
        "#         plt.title(f\"Loss Curve for {key}\")\n",
        "#         plt.legend()\n",
        "#         plt.show()\n"
      ]
    },
    {
      "cell_type": "markdown",
      "id": "Vnl47R_8_zoJ",
      "metadata": {
        "id": "Vnl47R_8_zoJ"
      },
      "source": [
        "double"
      ]
    },
    {
      "cell_type": "code",
      "execution_count": 21,
      "id": "b4152252",
      "metadata": {
        "id": "b4152252"
      },
      "outputs": [],
      "source": [
        "# Paths\n",
        "model_dir = \"/content/drive/MyDrive/reserach/with_down/log_all/double/models\"\n",
        "history_dir = \"/content/drive/MyDrive/reserach/with_down/log_all/double/history\"\n",
        "os.makedirs(model_dir, exist_ok=True)\n",
        "os.makedirs(history_dir, exist_ok=True)"
      ]
    },
    {
      "cell_type": "code",
      "execution_count": 22,
      "id": "PmHcTAX9xt5A",
      "metadata": {
        "colab": {
          "base_uri": "https://localhost:8080/",
          "height": 729
        },
        "id": "PmHcTAX9xt5A",
        "outputId": "6e766781-8fe9-4c8d-c325-ce88be05b70b"
      },
      "outputs": [
        {
          "name": "stdout",
          "output_type": "stream",
          "text": [
            "==> Window: 1\n",
            "--> (7182, 1, 8) (7182,) (1577, 1, 8)\n",
            "🚀 Training new model for window 1\n"
          ]
        },
        {
          "name": "stderr",
          "output_type": "stream",
          "text": [
            "/usr/local/lib/python3.11/dist-packages/keras/src/layers/rnn/rnn.py:200: UserWarning: Do not pass an `input_shape`/`input_dim` argument to a layer. When using Sequential models, prefer using an `Input(shape)` object as the first layer in the model instead.\n",
            "  super().__init__(**kwargs)\n"
          ]
        },
        {
          "name": "stdout",
          "output_type": "stream",
          "text": [
            "\u001b[1m180/180\u001b[0m \u001b[32m━━━━━━━━━━━━━━━━━━━━\u001b[0m\u001b[37m\u001b[0m \u001b[1m6s\u001b[0m 11ms/step - loss: 0.3115 - mae: 0.2547 - val_loss: 0.1872 - val_mae: 0.1429\n"
          ]
        },
        {
          "name": "stderr",
          "output_type": "stream",
          "text": [
            "WARNING:absl:You are saving your model as an HDF5 file via `model.save()` or `keras.saving.save_model(model)`. This file format is considered legacy. We recommend using instead the native Keras format, e.g. `model.save('my_model.keras')` or `keras.saving.save_model(model, 'my_model.keras')`. \n"
          ]
        },
        {
          "name": "stdout",
          "output_type": "stream",
          "text": [
            "💾 Model saved for window 1\n",
            "==> Window: 4\n",
            "--> (7179, 4, 8) (7179,) (1577, 4, 8)\n",
            "🚀 Training new model for window 4\n",
            "\u001b[1m180/180\u001b[0m \u001b[32m━━━━━━━━━━━━━━━━━━━━\u001b[0m\u001b[37m\u001b[0m \u001b[1m3s\u001b[0m 9ms/step - loss: 0.2815 - mae: 0.2362 - val_loss: 0.1969 - val_mae: 0.1558\n"
          ]
        },
        {
          "name": "stderr",
          "output_type": "stream",
          "text": [
            "WARNING:absl:You are saving your model as an HDF5 file via `model.save()` or `keras.saving.save_model(model)`. This file format is considered legacy. We recommend using instead the native Keras format, e.g. `model.save('my_model.keras')` or `keras.saving.save_model(model, 'my_model.keras')`. \n"
          ]
        },
        {
          "name": "stdout",
          "output_type": "stream",
          "text": [
            "💾 Model saved for window 4\n",
            "==> Window: 8\n",
            "--> (7176, 8, 8) (7176,) (1576, 8, 8)\n",
            "🚀 Training new model for window 8\n",
            "\u001b[1m180/180\u001b[0m \u001b[32m━━━━━━━━━━━━━━━━━━━━\u001b[0m\u001b[37m\u001b[0m \u001b[1m3s\u001b[0m 10ms/step - loss: 0.2538 - mae: 0.2112 - val_loss: 0.1527 - val_mae: 0.1218\n"
          ]
        },
        {
          "ename": "KeyboardInterrupt",
          "evalue": "",
          "output_type": "error",
          "traceback": [
            "\u001b[0;31m---------------------------------------------------------------------------\u001b[0m",
            "\u001b[0;31mKeyboardInterrupt\u001b[0m                         Traceback (most recent call last)",
            "\u001b[0;32m/tmp/ipython-input-22-1024189482.py\u001b[0m in \u001b[0;36m<cell line: 0>\u001b[0;34m()\u001b[0m\n\u001b[1;32m     21\u001b[0m         \u001b[0mmodel\u001b[0m \u001b[0;34m=\u001b[0m \u001b[0mbuild_lstm_model\u001b[0m\u001b[0;34m(\u001b[0m\u001b[0;34m'double'\u001b[0m\u001b[0;34m,\u001b[0m \u001b[0;34m(\u001b[0m\u001b[0mwindow_size\u001b[0m\u001b[0;34m,\u001b[0m \u001b[0mX_train\u001b[0m\u001b[0;34m.\u001b[0m\u001b[0mshape\u001b[0m\u001b[0;34m[\u001b[0m\u001b[0;36m2\u001b[0m\u001b[0;34m]\u001b[0m\u001b[0;34m)\u001b[0m\u001b[0;34m)\u001b[0m\u001b[0;34m\u001b[0m\u001b[0;34m\u001b[0m\u001b[0m\n\u001b[1;32m     22\u001b[0m         \u001b[0mmodel\u001b[0m\u001b[0;34m.\u001b[0m\u001b[0mcompile\u001b[0m\u001b[0;34m(\u001b[0m\u001b[0moptimizer\u001b[0m\u001b[0;34m=\u001b[0m\u001b[0;34m'adam'\u001b[0m\u001b[0;34m,\u001b[0m \u001b[0mloss\u001b[0m\u001b[0;34m=\u001b[0m\u001b[0mrmse\u001b[0m\u001b[0;34m,\u001b[0m \u001b[0mmetrics\u001b[0m\u001b[0;34m=\u001b[0m\u001b[0;34m[\u001b[0m\u001b[0;34m'mae'\u001b[0m\u001b[0;34m]\u001b[0m\u001b[0;34m)\u001b[0m\u001b[0;34m\u001b[0m\u001b[0;34m\u001b[0m\u001b[0m\n\u001b[0;32m---> 23\u001b[0;31m         history = model.fit(\n\u001b[0m\u001b[1;32m     24\u001b[0m             \u001b[0mX_train\u001b[0m\u001b[0;34m,\u001b[0m \u001b[0my_train\u001b[0m\u001b[0;34m,\u001b[0m\u001b[0;34m\u001b[0m\u001b[0;34m\u001b[0m\u001b[0m\n\u001b[1;32m     25\u001b[0m             \u001b[0mepochs\u001b[0m\u001b[0;34m=\u001b[0m\u001b[0;36m1\u001b[0m\u001b[0;34m,\u001b[0m\u001b[0;34m\u001b[0m\u001b[0;34m\u001b[0m\u001b[0m\n",
            "\u001b[0;32m/usr/local/lib/python3.11/dist-packages/keras/src/utils/traceback_utils.py\u001b[0m in \u001b[0;36merror_handler\u001b[0;34m(*args, **kwargs)\u001b[0m\n\u001b[1;32m    115\u001b[0m         \u001b[0mfiltered_tb\u001b[0m \u001b[0;34m=\u001b[0m \u001b[0;32mNone\u001b[0m\u001b[0;34m\u001b[0m\u001b[0;34m\u001b[0m\u001b[0m\n\u001b[1;32m    116\u001b[0m         \u001b[0;32mtry\u001b[0m\u001b[0;34m:\u001b[0m\u001b[0;34m\u001b[0m\u001b[0;34m\u001b[0m\u001b[0m\n\u001b[0;32m--> 117\u001b[0;31m             \u001b[0;32mreturn\u001b[0m \u001b[0mfn\u001b[0m\u001b[0;34m(\u001b[0m\u001b[0;34m*\u001b[0m\u001b[0margs\u001b[0m\u001b[0;34m,\u001b[0m \u001b[0;34m**\u001b[0m\u001b[0mkwargs\u001b[0m\u001b[0;34m)\u001b[0m\u001b[0;34m\u001b[0m\u001b[0;34m\u001b[0m\u001b[0m\n\u001b[0m\u001b[1;32m    118\u001b[0m         \u001b[0;32mexcept\u001b[0m \u001b[0mException\u001b[0m \u001b[0;32mas\u001b[0m \u001b[0me\u001b[0m\u001b[0;34m:\u001b[0m\u001b[0;34m\u001b[0m\u001b[0;34m\u001b[0m\u001b[0m\n\u001b[1;32m    119\u001b[0m             \u001b[0mfiltered_tb\u001b[0m \u001b[0;34m=\u001b[0m \u001b[0m_process_traceback_frames\u001b[0m\u001b[0;34m(\u001b[0m\u001b[0me\u001b[0m\u001b[0;34m.\u001b[0m\u001b[0m__traceback__\u001b[0m\u001b[0;34m)\u001b[0m\u001b[0;34m\u001b[0m\u001b[0;34m\u001b[0m\u001b[0m\n",
            "\u001b[0;31mKeyboardInterrupt\u001b[0m: "
          ]
        }
      ],
      "source": [
        "double_models = {}\n",
        "\n",
        "for window_size in window_sizes:\n",
        "    print(f\"==> Window: {window_size}\")\n",
        "\n",
        "    X_train = data[f\"win{window_size}\"][\"X_train\"]\n",
        "    X_test = data[f\"win{window_size}\"][\"X_test\"]\n",
        "    y_train = data[f\"win{window_size}\"][\"y_train\"]\n",
        "    y_test = data[f\"win{window_size}\"][\"y_test\"]\n",
        "\n",
        "    print(\"-->\", X_train.shape, y_train.shape, X_test.shape)\n",
        "\n",
        "    # Try to load the model\n",
        "    model = load_saved_model(window_size)\n",
        "    history_data = load_saved_history(window_size)\n",
        "\n",
        "    if model is not None and history_data is not None:\n",
        "        print(f\"✅ Loaded model and history for window {window_size}\")\n",
        "        history = None  # Already loaded history_data\n",
        "    else:\n",
        "        print(f\"🚀 Training new model for window {window_size}\")\n",
        "        model = build_lstm_model('double', (window_size, X_train.shape[2]))\n",
        "        model.compile(optimizer='adam', loss=rmse, metrics=['mae'])\n",
        "        history = model.fit(\n",
        "            X_train, y_train,\n",
        "            epochs=50,\n",
        "            batch_size=32,\n",
        "            validation_split=0.2,\n",
        "            verbose=1\n",
        "        )\n",
        "        save_model(model, window_size)\n",
        "        save_history(history, window_size)\n",
        "        history_data = history.history\n",
        "        print(f\"💾 Model and history saved for window {window_size}\")\n",
        "\n",
        "    double_models[f\"win{window_size}\"] = {\n",
        "        \"model\": model,\n",
        "        \"history\": history_data  # always a dict\n",
        "    }\n"
      ]
    },
    {
      "cell_type": "markdown",
      "id": "8BqRxE6fAPF_",
      "metadata": {
        "id": "8BqRxE6fAPF_"
      },
      "source": [
        "bi dir"
      ]
    },
    {
      "cell_type": "code",
      "execution_count": null,
      "id": "PmoIp4k6xt5A",
      "metadata": {
        "id": "PmoIp4k6xt5A"
      },
      "outputs": [],
      "source": [
        "# Paths\n",
        "model_dir = \"/content/drive/MyDrive/reserach/with_down/log_all/bidir/models\"\n",
        "history_dir = \"/content/drive/MyDrive/reserach/with_down/log_all/bidir/history\"\n",
        "os.makedirs(model_dir, exist_ok=True)\n",
        "os.makedirs(history_dir, exist_ok=True)"
      ]
    },
    {
      "cell_type": "code",
      "execution_count": null,
      "id": "cf5216af",
      "metadata": {
        "id": "cf5216af"
      },
      "outputs": [],
      "source": [
        "bidir_models = {}\n",
        "\n",
        "for window_size in window_sizes:\n",
        "    print(f\"==> Window: {window_size}\")\n",
        "\n",
        "    X_train = data[f\"win{window_size}\"][\"X_train\"]\n",
        "    X_test = data[f\"win{window_size}\"][\"X_test\"]\n",
        "    y_train = data[f\"win{window_size}\"][\"y_train\"]\n",
        "    y_test = data[f\"win{window_size}\"][\"y_test\"]\n",
        "\n",
        "    print(\"-->\", X_train.shape, y_train.shape, X_test.shape)\n",
        "\n",
        "    # Try to load the model\n",
        "    model = load_saved_model(window_size)\n",
        "    history_data = load_saved_history(window_size)\n",
        "\n",
        "    if model is not None and history_data is not None:\n",
        "        print(f\"✅ Loaded model and history for window {window_size}\")\n",
        "        history = None  # Already loaded history_data\n",
        "    else:\n",
        "        print(f\"🚀 Training new model for window {window_size}\")\n",
        "        model = build_lstm_model('bidirectional', (window_size, X_train.shape[2]))\n",
        "        model.compile(optimizer='adam', loss=rmse, metrics=['mae'])\n",
        "        history = model.fit(\n",
        "            X_train, y_train,\n",
        "            epochs=50,\n",
        "            batch_size=32,\n",
        "            validation_split=0.2,\n",
        "            verbose=1\n",
        "        )\n",
        "        save_model(model, window_size)\n",
        "        save_history(history, window_size)\n",
        "        history_data = history.history\n",
        "        print(f\"💾 Model and history saved for window {window_size}\")\n",
        "\n",
        "    bidir_models[f\"win{window_size}\"] = {\n",
        "        \"model\": model,\n",
        "        \"history\": history_data  # always a dict\n",
        "    }\n"
      ]
    }
  ],
  "metadata": {
    "accelerator": "GPU",
    "colab": {
      "gpuType": "T4",
      "provenance": []
    },
    "kernelspec": {
      "display_name": ".venv",
      "language": "python",
      "name": "python3"
    },
    "language_info": {
      "codemirror_mode": {
        "name": "ipython",
        "version": 3
      },
      "file_extension": ".py",
      "mimetype": "text/x-python",
      "name": "python",
      "nbconvert_exporter": "python",
      "pygments_lexer": "ipython3",
      "version": "3.13.5"
    }
  },
  "nbformat": 4,
  "nbformat_minor": 5
}
