{
  "cells": [
    {
      "cell_type": "code",
      "execution_count": 1,
      "id": "btuxbOULxwqW",
      "metadata": {
        "colab": {
          "base_uri": "https://localhost:8080/"
        },
        "id": "btuxbOULxwqW",
        "outputId": "a440b857-c3a5-4158-ea65-ad39ad9c8ee3"
      },
      "outputs": [
        {
          "output_type": "stream",
          "name": "stdout",
          "text": [
            "fatal: destination path 'steel-industry-energy-consumption' already exists and is not an empty directory.\n"
          ]
        }
      ],
      "source": [
        "!git clone https://github.com/Dinith132/steel-industry-energy-consumption.git"
      ]
    },
    {
      "cell_type": "code",
      "execution_count": 2,
      "id": "_okSezaYx0Pl",
      "metadata": {
        "colab": {
          "base_uri": "https://localhost:8080/"
        },
        "id": "_okSezaYx0Pl",
        "outputId": "16db346c-ff60-4f25-b432-5c820ecd0aaa"
      },
      "outputs": [
        {
          "output_type": "stream",
          "name": "stdout",
          "text": [
            "/content/steel-industry-energy-consumption/with_down/Training\n"
          ]
        }
      ],
      "source": [
        "cd steel-industry-energy-consumption/with_down/Training/"
      ]
    },
    {
      "cell_type": "code",
      "execution_count": 3,
      "id": "d1f5037b",
      "metadata": {
        "id": "d1f5037b"
      },
      "outputs": [],
      "source": [
        "import pandas as pd\n",
        "import numpy as np\n",
        "from sklearn.preprocessing import OrdinalEncoder, MinMaxScaler\n",
        "from sklearn.model_selection import train_test_split"
      ]
    },
    {
      "cell_type": "code",
      "execution_count": 4,
      "id": "f06ae63b",
      "metadata": {
        "id": "f06ae63b"
      },
      "outputs": [],
      "source": [
        "df=pd.read_csv(\"../data_log_all.csv\")"
      ]
    },
    {
      "cell_type": "code",
      "execution_count": 5,
      "id": "348c0853",
      "metadata": {
        "colab": {
          "base_uri": "https://localhost:8080/",
          "height": 226
        },
        "id": "348c0853",
        "outputId": "86778517-6d97-4643-d519-d1e1569c7d76"
      },
      "outputs": [
        {
          "output_type": "execute_result",
          "data": {
            "text/plain": [
              "   Usage_kWh  Lagging_Current_Reactive.Power_kVarh  \\\n",
              "0   0.068186                              0.352315   \n",
              "1   0.070905                              0.372114   \n",
              "2   0.072554                              0.382602   \n",
              "3   0.068034                              0.377244   \n",
              "4   0.077733                              0.393285   \n",
              "\n",
              "   Leading_Current_Reactive_Power_kVarh  CO2(tCO2)  \\\n",
              "0                                   0.0        0.0   \n",
              "1                                   0.0        0.0   \n",
              "2                                   0.0        0.0   \n",
              "3                                   0.0        0.0   \n",
              "4                                   0.0        0.0   \n",
              "\n",
              "   Lagging_Current_Power_Factor  Leading_Current_Power_Factor       NSM  \\\n",
              "0                      0.638592                           1.0  0.000000   \n",
              "1                      0.585156                           1.0  0.043478   \n",
              "2                      0.557186                           1.0  0.086957   \n",
              "3                      0.562310                           1.0  0.130435   \n",
              "4                      0.537829                           1.0  0.173913   \n",
              "\n",
              "   WeekStatus  Load_Type  \n",
              "0         0.0        0.0  \n",
              "1         0.0        0.0  \n",
              "2         0.0        0.0  \n",
              "3         0.0        0.0  \n",
              "4         0.0        0.0  "
            ],
            "text/html": [
              "\n",
              "  <div id=\"df-fe8e2dc4-e6d1-4834-a69e-d04739c4d646\" class=\"colab-df-container\">\n",
              "    <div>\n",
              "<style scoped>\n",
              "    .dataframe tbody tr th:only-of-type {\n",
              "        vertical-align: middle;\n",
              "    }\n",
              "\n",
              "    .dataframe tbody tr th {\n",
              "        vertical-align: top;\n",
              "    }\n",
              "\n",
              "    .dataframe thead th {\n",
              "        text-align: right;\n",
              "    }\n",
              "</style>\n",
              "<table border=\"1\" class=\"dataframe\">\n",
              "  <thead>\n",
              "    <tr style=\"text-align: right;\">\n",
              "      <th></th>\n",
              "      <th>Usage_kWh</th>\n",
              "      <th>Lagging_Current_Reactive.Power_kVarh</th>\n",
              "      <th>Leading_Current_Reactive_Power_kVarh</th>\n",
              "      <th>CO2(tCO2)</th>\n",
              "      <th>Lagging_Current_Power_Factor</th>\n",
              "      <th>Leading_Current_Power_Factor</th>\n",
              "      <th>NSM</th>\n",
              "      <th>WeekStatus</th>\n",
              "      <th>Load_Type</th>\n",
              "    </tr>\n",
              "  </thead>\n",
              "  <tbody>\n",
              "    <tr>\n",
              "      <th>0</th>\n",
              "      <td>0.068186</td>\n",
              "      <td>0.352315</td>\n",
              "      <td>0.0</td>\n",
              "      <td>0.0</td>\n",
              "      <td>0.638592</td>\n",
              "      <td>1.0</td>\n",
              "      <td>0.000000</td>\n",
              "      <td>0.0</td>\n",
              "      <td>0.0</td>\n",
              "    </tr>\n",
              "    <tr>\n",
              "      <th>1</th>\n",
              "      <td>0.070905</td>\n",
              "      <td>0.372114</td>\n",
              "      <td>0.0</td>\n",
              "      <td>0.0</td>\n",
              "      <td>0.585156</td>\n",
              "      <td>1.0</td>\n",
              "      <td>0.043478</td>\n",
              "      <td>0.0</td>\n",
              "      <td>0.0</td>\n",
              "    </tr>\n",
              "    <tr>\n",
              "      <th>2</th>\n",
              "      <td>0.072554</td>\n",
              "      <td>0.382602</td>\n",
              "      <td>0.0</td>\n",
              "      <td>0.0</td>\n",
              "      <td>0.557186</td>\n",
              "      <td>1.0</td>\n",
              "      <td>0.086957</td>\n",
              "      <td>0.0</td>\n",
              "      <td>0.0</td>\n",
              "    </tr>\n",
              "    <tr>\n",
              "      <th>3</th>\n",
              "      <td>0.068034</td>\n",
              "      <td>0.377244</td>\n",
              "      <td>0.0</td>\n",
              "      <td>0.0</td>\n",
              "      <td>0.562310</td>\n",
              "      <td>1.0</td>\n",
              "      <td>0.130435</td>\n",
              "      <td>0.0</td>\n",
              "      <td>0.0</td>\n",
              "    </tr>\n",
              "    <tr>\n",
              "      <th>4</th>\n",
              "      <td>0.077733</td>\n",
              "      <td>0.393285</td>\n",
              "      <td>0.0</td>\n",
              "      <td>0.0</td>\n",
              "      <td>0.537829</td>\n",
              "      <td>1.0</td>\n",
              "      <td>0.173913</td>\n",
              "      <td>0.0</td>\n",
              "      <td>0.0</td>\n",
              "    </tr>\n",
              "  </tbody>\n",
              "</table>\n",
              "</div>\n",
              "    <div class=\"colab-df-buttons\">\n",
              "\n",
              "  <div class=\"colab-df-container\">\n",
              "    <button class=\"colab-df-convert\" onclick=\"convertToInteractive('df-fe8e2dc4-e6d1-4834-a69e-d04739c4d646')\"\n",
              "            title=\"Convert this dataframe to an interactive table.\"\n",
              "            style=\"display:none;\">\n",
              "\n",
              "  <svg xmlns=\"http://www.w3.org/2000/svg\" height=\"24px\" viewBox=\"0 -960 960 960\">\n",
              "    <path d=\"M120-120v-720h720v720H120Zm60-500h600v-160H180v160Zm220 220h160v-160H400v160Zm0 220h160v-160H400v160ZM180-400h160v-160H180v160Zm440 0h160v-160H620v160ZM180-180h160v-160H180v160Zm440 0h160v-160H620v160Z\"/>\n",
              "  </svg>\n",
              "    </button>\n",
              "\n",
              "  <style>\n",
              "    .colab-df-container {\n",
              "      display:flex;\n",
              "      gap: 12px;\n",
              "    }\n",
              "\n",
              "    .colab-df-convert {\n",
              "      background-color: #E8F0FE;\n",
              "      border: none;\n",
              "      border-radius: 50%;\n",
              "      cursor: pointer;\n",
              "      display: none;\n",
              "      fill: #1967D2;\n",
              "      height: 32px;\n",
              "      padding: 0 0 0 0;\n",
              "      width: 32px;\n",
              "    }\n",
              "\n",
              "    .colab-df-convert:hover {\n",
              "      background-color: #E2EBFA;\n",
              "      box-shadow: 0px 1px 2px rgba(60, 64, 67, 0.3), 0px 1px 3px 1px rgba(60, 64, 67, 0.15);\n",
              "      fill: #174EA6;\n",
              "    }\n",
              "\n",
              "    .colab-df-buttons div {\n",
              "      margin-bottom: 4px;\n",
              "    }\n",
              "\n",
              "    [theme=dark] .colab-df-convert {\n",
              "      background-color: #3B4455;\n",
              "      fill: #D2E3FC;\n",
              "    }\n",
              "\n",
              "    [theme=dark] .colab-df-convert:hover {\n",
              "      background-color: #434B5C;\n",
              "      box-shadow: 0px 1px 3px 1px rgba(0, 0, 0, 0.15);\n",
              "      filter: drop-shadow(0px 1px 2px rgba(0, 0, 0, 0.3));\n",
              "      fill: #FFFFFF;\n",
              "    }\n",
              "  </style>\n",
              "\n",
              "    <script>\n",
              "      const buttonEl =\n",
              "        document.querySelector('#df-fe8e2dc4-e6d1-4834-a69e-d04739c4d646 button.colab-df-convert');\n",
              "      buttonEl.style.display =\n",
              "        google.colab.kernel.accessAllowed ? 'block' : 'none';\n",
              "\n",
              "      async function convertToInteractive(key) {\n",
              "        const element = document.querySelector('#df-fe8e2dc4-e6d1-4834-a69e-d04739c4d646');\n",
              "        const dataTable =\n",
              "          await google.colab.kernel.invokeFunction('convertToInteractive',\n",
              "                                                    [key], {});\n",
              "        if (!dataTable) return;\n",
              "\n",
              "        const docLinkHtml = 'Like what you see? Visit the ' +\n",
              "          '<a target=\"_blank\" href=https://colab.research.google.com/notebooks/data_table.ipynb>data table notebook</a>'\n",
              "          + ' to learn more about interactive tables.';\n",
              "        element.innerHTML = '';\n",
              "        dataTable['output_type'] = 'display_data';\n",
              "        await google.colab.output.renderOutput(dataTable, element);\n",
              "        const docLink = document.createElement('div');\n",
              "        docLink.innerHTML = docLinkHtml;\n",
              "        element.appendChild(docLink);\n",
              "      }\n",
              "    </script>\n",
              "  </div>\n",
              "\n",
              "\n",
              "    <div id=\"df-c0e1c7d7-8092-4555-958a-476427a229a2\">\n",
              "      <button class=\"colab-df-quickchart\" onclick=\"quickchart('df-c0e1c7d7-8092-4555-958a-476427a229a2')\"\n",
              "                title=\"Suggest charts\"\n",
              "                style=\"display:none;\">\n",
              "\n",
              "<svg xmlns=\"http://www.w3.org/2000/svg\" height=\"24px\"viewBox=\"0 0 24 24\"\n",
              "     width=\"24px\">\n",
              "    <g>\n",
              "        <path d=\"M19 3H5c-1.1 0-2 .9-2 2v14c0 1.1.9 2 2 2h14c1.1 0 2-.9 2-2V5c0-1.1-.9-2-2-2zM9 17H7v-7h2v7zm4 0h-2V7h2v10zm4 0h-2v-4h2v4z\"/>\n",
              "    </g>\n",
              "</svg>\n",
              "      </button>\n",
              "\n",
              "<style>\n",
              "  .colab-df-quickchart {\n",
              "      --bg-color: #E8F0FE;\n",
              "      --fill-color: #1967D2;\n",
              "      --hover-bg-color: #E2EBFA;\n",
              "      --hover-fill-color: #174EA6;\n",
              "      --disabled-fill-color: #AAA;\n",
              "      --disabled-bg-color: #DDD;\n",
              "  }\n",
              "\n",
              "  [theme=dark] .colab-df-quickchart {\n",
              "      --bg-color: #3B4455;\n",
              "      --fill-color: #D2E3FC;\n",
              "      --hover-bg-color: #434B5C;\n",
              "      --hover-fill-color: #FFFFFF;\n",
              "      --disabled-bg-color: #3B4455;\n",
              "      --disabled-fill-color: #666;\n",
              "  }\n",
              "\n",
              "  .colab-df-quickchart {\n",
              "    background-color: var(--bg-color);\n",
              "    border: none;\n",
              "    border-radius: 50%;\n",
              "    cursor: pointer;\n",
              "    display: none;\n",
              "    fill: var(--fill-color);\n",
              "    height: 32px;\n",
              "    padding: 0;\n",
              "    width: 32px;\n",
              "  }\n",
              "\n",
              "  .colab-df-quickchart:hover {\n",
              "    background-color: var(--hover-bg-color);\n",
              "    box-shadow: 0 1px 2px rgba(60, 64, 67, 0.3), 0 1px 3px 1px rgba(60, 64, 67, 0.15);\n",
              "    fill: var(--button-hover-fill-color);\n",
              "  }\n",
              "\n",
              "  .colab-df-quickchart-complete:disabled,\n",
              "  .colab-df-quickchart-complete:disabled:hover {\n",
              "    background-color: var(--disabled-bg-color);\n",
              "    fill: var(--disabled-fill-color);\n",
              "    box-shadow: none;\n",
              "  }\n",
              "\n",
              "  .colab-df-spinner {\n",
              "    border: 2px solid var(--fill-color);\n",
              "    border-color: transparent;\n",
              "    border-bottom-color: var(--fill-color);\n",
              "    animation:\n",
              "      spin 1s steps(1) infinite;\n",
              "  }\n",
              "\n",
              "  @keyframes spin {\n",
              "    0% {\n",
              "      border-color: transparent;\n",
              "      border-bottom-color: var(--fill-color);\n",
              "      border-left-color: var(--fill-color);\n",
              "    }\n",
              "    20% {\n",
              "      border-color: transparent;\n",
              "      border-left-color: var(--fill-color);\n",
              "      border-top-color: var(--fill-color);\n",
              "    }\n",
              "    30% {\n",
              "      border-color: transparent;\n",
              "      border-left-color: var(--fill-color);\n",
              "      border-top-color: var(--fill-color);\n",
              "      border-right-color: var(--fill-color);\n",
              "    }\n",
              "    40% {\n",
              "      border-color: transparent;\n",
              "      border-right-color: var(--fill-color);\n",
              "      border-top-color: var(--fill-color);\n",
              "    }\n",
              "    60% {\n",
              "      border-color: transparent;\n",
              "      border-right-color: var(--fill-color);\n",
              "    }\n",
              "    80% {\n",
              "      border-color: transparent;\n",
              "      border-right-color: var(--fill-color);\n",
              "      border-bottom-color: var(--fill-color);\n",
              "    }\n",
              "    90% {\n",
              "      border-color: transparent;\n",
              "      border-bottom-color: var(--fill-color);\n",
              "    }\n",
              "  }\n",
              "</style>\n",
              "\n",
              "      <script>\n",
              "        async function quickchart(key) {\n",
              "          const quickchartButtonEl =\n",
              "            document.querySelector('#' + key + ' button');\n",
              "          quickchartButtonEl.disabled = true;  // To prevent multiple clicks.\n",
              "          quickchartButtonEl.classList.add('colab-df-spinner');\n",
              "          try {\n",
              "            const charts = await google.colab.kernel.invokeFunction(\n",
              "                'suggestCharts', [key], {});\n",
              "          } catch (error) {\n",
              "            console.error('Error during call to suggestCharts:', error);\n",
              "          }\n",
              "          quickchartButtonEl.classList.remove('colab-df-spinner');\n",
              "          quickchartButtonEl.classList.add('colab-df-quickchart-complete');\n",
              "        }\n",
              "        (() => {\n",
              "          let quickchartButtonEl =\n",
              "            document.querySelector('#df-c0e1c7d7-8092-4555-958a-476427a229a2 button');\n",
              "          quickchartButtonEl.style.display =\n",
              "            google.colab.kernel.accessAllowed ? 'block' : 'none';\n",
              "        })();\n",
              "      </script>\n",
              "    </div>\n",
              "\n",
              "    </div>\n",
              "  </div>\n"
            ],
            "application/vnd.google.colaboratory.intrinsic+json": {
              "type": "dataframe",
              "variable_name": "df",
              "summary": "{\n  \"name\": \"df\",\n  \"rows\": 8760,\n  \"fields\": [\n    {\n      \"column\": \"Usage_kWh\",\n      \"properties\": {\n        \"dtype\": \"number\",\n        \"std\": 0.34204737120623224,\n        \"min\": 0.0,\n        \"max\": 1.0,\n        \"num_unique_values\": 4610,\n        \"samples\": [\n          0.8993921379072414,\n          0.2289554194835475,\n          0.5857691821621778\n        ],\n        \"semantic_type\": \"\",\n        \"description\": \"\"\n      }\n    },\n    {\n      \"column\": \"Lagging_Current_Reactive.Power_kVarh\",\n      \"properties\": {\n        \"dtype\": \"number\",\n        \"std\": 0.2821096572663324,\n        \"min\": 0.0,\n        \"max\": 1.0,\n        \"num_unique_values\": 4377,\n        \"samples\": [\n          0.948435231070669,\n          0.1273504885744352,\n          0.7100105532222721\n        ],\n        \"semantic_type\": \"\",\n        \"description\": \"\"\n      }\n    },\n    {\n      \"column\": \"Leading_Current_Reactive_Power_kVarh\",\n      \"properties\": {\n        \"dtype\": \"number\",\n        \"std\": 0.3462383056460093,\n        \"min\": 0.0,\n        \"max\": 1.0,\n        \"num_unique_values\": 2381,\n        \"samples\": [\n          0.8788211356118171,\n          0.9150319251738842,\n          0.7415915776713765\n        ],\n        \"semantic_type\": \"\",\n        \"description\": \"\"\n      }\n    },\n    {\n      \"column\": \"CO2(tCO2)\",\n      \"properties\": {\n        \"dtype\": \"number\",\n        \"std\": 0.23489770845195002,\n        \"min\": 0.0,\n        \"max\": 1.0,\n        \"num_unique_values\": 35,\n        \"samples\": [\n          0.5462729087737186,\n          0.9252734252418549,\n          0.8877778521376289\n        ],\n        \"semantic_type\": \"\",\n        \"description\": \"\"\n      }\n    },\n    {\n      \"column\": \"Lagging_Current_Power_Factor\",\n      \"properties\": {\n        \"dtype\": \"number\",\n        \"std\": 0.2591818629823698,\n        \"min\": 0.0,\n        \"max\": 1.0,\n        \"num_unique_values\": 6057,\n        \"samples\": [\n          0.8772449139843879,\n          0.7859433293948754,\n          0.9527061714975192\n        ],\n        \"semantic_type\": \"\",\n        \"description\": \"\"\n      }\n    },\n    {\n      \"column\": \"Leading_Current_Power_Factor\",\n      \"properties\": {\n        \"dtype\": \"number\",\n        \"std\": 0.26153435764627836,\n        \"min\": 0.0,\n        \"max\": 1.0000000000000002,\n        \"num_unique_values\": 2655,\n        \"samples\": [\n          0.999492899049656,\n          0.1681738810030641,\n          0.6203903966101292\n        ],\n        \"semantic_type\": \"\",\n        \"description\": \"\"\n      }\n    },\n    {\n      \"column\": \"NSM\",\n      \"properties\": {\n        \"dtype\": \"number\",\n        \"std\": 0.3009818125319354,\n        \"min\": 0.0,\n        \"max\": 1.0,\n        \"num_unique_values\": 24,\n        \"samples\": [\n          0.3478260869565217,\n          0.6956521739130435,\n          0.0\n        ],\n        \"semantic_type\": \"\",\n        \"description\": \"\"\n      }\n    },\n    {\n      \"column\": \"WeekStatus\",\n      \"properties\": {\n        \"dtype\": \"number\",\n        \"std\": 0.45140758138618176,\n        \"min\": 0.0,\n        \"max\": 1.0,\n        \"num_unique_values\": 2,\n        \"samples\": [\n          1.0,\n          0.0\n        ],\n        \"semantic_type\": \"\",\n        \"description\": \"\"\n      }\n    },\n    {\n      \"column\": \"Load_Type\",\n      \"properties\": {\n        \"dtype\": \"number\",\n        \"std\": 0.42877997233601683,\n        \"min\": 0.0,\n        \"max\": 1.0,\n        \"num_unique_values\": 3,\n        \"samples\": [\n          0.0,\n          1.0\n        ],\n        \"semantic_type\": \"\",\n        \"description\": \"\"\n      }\n    }\n  ]\n}"
            }
          },
          "metadata": {},
          "execution_count": 5
        }
      ],
      "source": [
        "df.head()"
      ]
    },
    {
      "cell_type": "code",
      "execution_count": 6,
      "id": "88fa438b",
      "metadata": {
        "id": "88fa438b"
      },
      "outputs": [],
      "source": [
        "# Sliding window transformation\n",
        "def create_sliding_windows(data, window_size=1):\n",
        "    X, y = [], []\n",
        "    for i in range(len(data)-window_size):\n",
        "        X.append(data[i:i+window_size, 1:])\n",
        "        y.append(data[i+window_size, 0])\n",
        "    return np.array(X), np.array(y)"
      ]
    },
    {
      "cell_type": "code",
      "execution_count": 7,
      "id": "93e93453",
      "metadata": {
        "id": "93e93453"
      },
      "outputs": [],
      "source": [
        "data={}"
      ]
    },
    {
      "cell_type": "code",
      "execution_count": 8,
      "id": "8da8562b",
      "metadata": {
        "id": "8da8562b"
      },
      "outputs": [],
      "source": [
        "df_np = df.to_numpy()"
      ]
    },
    {
      "cell_type": "code",
      "execution_count": 9,
      "id": "07c70861",
      "metadata": {
        "id": "07c70861"
      },
      "outputs": [],
      "source": [
        "window_sizes=[1,4,8,12,16,24,36,48,74,168,336,672]"
      ]
    },
    {
      "cell_type": "code",
      "execution_count": 10,
      "id": "ce0b255c",
      "metadata": {
        "id": "ce0b255c"
      },
      "outputs": [],
      "source": [
        "for window in window_sizes:\n",
        "  X, y = create_sliding_windows(df_np, window)\n",
        "  X_train, X_test, y_train, y_test = train_test_split(X, y, test_size=0.18, shuffle=False)\n",
        "  data[f\"win{window}\"] = {\n",
        "      \"X_train\": X_train,\n",
        "      \"X_test\": X_test,\n",
        "      \"y_train\": y_train,\n",
        "      \"y_test\": y_test\n",
        "  }"
      ]
    },
    {
      "cell_type": "code",
      "execution_count": 11,
      "id": "429b5c1f",
      "metadata": {
        "colab": {
          "base_uri": "https://localhost:8080/"
        },
        "id": "429b5c1f",
        "outputId": "408b2bc8-4479-46b6-922c-fdac0c237cae"
      },
      "outputs": [
        {
          "output_type": "execute_result",
          "data": {
            "text/plain": [
              "((7182, 1, 8), (7182,), (1577, 1, 8), (1577,))"
            ]
          },
          "metadata": {},
          "execution_count": 11
        }
      ],
      "source": [
        "data['win1']['X_train'].shape, data['win1']['y_train'].shape, data['win1']['X_test'].shape, data['win1']['y_test'].shape"
      ]
    },
    {
      "cell_type": "markdown",
      "id": "7d2810ef",
      "metadata": {
        "id": "7d2810ef"
      },
      "source": [
        "trainig"
      ]
    },
    {
      "cell_type": "code",
      "execution_count": 12,
      "id": "a1b1dcd3",
      "metadata": {
        "id": "a1b1dcd3"
      },
      "outputs": [],
      "source": [
        "from tensorflow.keras.models import Sequential\n",
        "from tensorflow.keras.layers import LSTM, Bidirectional, Dense, Dropout"
      ]
    },
    {
      "cell_type": "code",
      "execution_count": 13,
      "id": "f603a471",
      "metadata": {
        "id": "f603a471"
      },
      "outputs": [],
      "source": [
        "def build_lstm_model(model_type, input_shape):\n",
        "    model = Sequential()\n",
        "\n",
        "    if model_type == 'single':\n",
        "        model.add(LSTM(64, input_shape=input_shape))\n",
        "    elif model_type == 'double':\n",
        "        model.add(LSTM(64, return_sequences=True, input_shape=input_shape))\n",
        "        model.add(LSTM(64))\n",
        "    elif model_type == 'bidirectional':\n",
        "        model.add(Bidirectional(LSTM(64), input_shape=input_shape))\n",
        "\n",
        "    model.add(Dropout(0.1))\n",
        "    model.add(Dense(1))\n",
        "    return model"
      ]
    },
    {
      "cell_type": "code",
      "execution_count": 14,
      "id": "f7069360",
      "metadata": {
        "id": "f7069360"
      },
      "outputs": [],
      "source": [
        "import tensorflow.keras.backend as K\n",
        "def rmse(y_true, y_pred):\n",
        "    return K.sqrt(K.mean(K.square(y_true - y_pred)))"
      ]
    },
    {
      "cell_type": "code",
      "execution_count": 15,
      "id": "e8pnQ4Ch_mqT",
      "metadata": {
        "colab": {
          "base_uri": "https://localhost:8080/"
        },
        "id": "e8pnQ4Ch_mqT",
        "outputId": "62230a5a-420c-4c70-ff89-01cea97282f1"
      },
      "outputs": [
        {
          "output_type": "stream",
          "name": "stdout",
          "text": [
            "Drive already mounted at /content/drive; to attempt to forcibly remount, call drive.mount(\"/content/drive\", force_remount=True).\n"
          ]
        }
      ],
      "source": [
        "# prompt: mount the disk\n",
        "\n",
        "from google.colab import drive\n",
        "drive.mount('/content/drive')"
      ]
    },
    {
      "cell_type": "code",
      "execution_count": 16,
      "id": "yg9Va_Fw_9ln",
      "metadata": {
        "id": "yg9Va_Fw_9ln"
      },
      "outputs": [],
      "source": [
        "import os\n",
        "import pickle\n",
        "from tensorflow.keras.models import load_model\n",
        "\n",
        "# Save model to disk\n",
        "def save_model(model, window_size):\n",
        "    path = f\"{model_dir}/win{window_size}.h5\"\n",
        "    model.save(path)\n",
        "\n",
        "# Load model from disk\n",
        "def load_saved_model(window_size):\n",
        "    path = f\"{model_dir}/win{window_size}.h5\"\n",
        "    if os.path.exists(path):\n",
        "        return load_model(path, custom_objects={'rmse': rmse})\n",
        "    else:\n",
        "        return None\n",
        "\n",
        "# Save history to disk\n",
        "def save_history(history, window_size):\n",
        "    path = f\"{history_dir}/win{window_size}_history.pkl\"\n",
        "    with open(path, 'wb') as f:\n",
        "        pickle.dump(history.history, f)\n",
        "\n",
        "# Load history from disk\n",
        "def load_saved_history(window_size):\n",
        "    path = f\"{history_dir}/win{window_size}_history.pkl\"\n",
        "    if os.path.exists(path):\n",
        "        with open(path, 'rb') as f:\n",
        "            return pickle.load(f)\n",
        "    else:\n",
        "        return None"
      ]
    },
    {
      "cell_type": "code",
      "execution_count": 16,
      "id": "f7377b16",
      "metadata": {
        "id": "f7377b16"
      },
      "outputs": [],
      "source": []
    },
    {
      "cell_type": "markdown",
      "id": "a4742e9e",
      "metadata": {
        "id": "a4742e9e"
      },
      "source": [
        "Single layer\n"
      ]
    },
    {
      "cell_type": "code",
      "execution_count": 22,
      "id": "cc920fce",
      "metadata": {
        "id": "cc920fce"
      },
      "outputs": [],
      "source": []
    },
    {
      "cell_type": "code",
      "execution_count": 18,
      "id": "313bef6e",
      "metadata": {
        "id": "313bef6e"
      },
      "outputs": [],
      "source": [
        "# Paths\n",
        "model_dir = \"/content/drive/MyDrive/reserach/with_down/log_all/single/models\"\n",
        "history_dir = \"/content/drive/MyDrive/reserach/with_down/log_all/single/history\"\n",
        "os.makedirs(model_dir, exist_ok=True)\n",
        "os.makedirs(history_dir, exist_ok=True)\n"
      ]
    },
    {
      "cell_type": "code",
      "execution_count": 19,
      "id": "b13ea399",
      "metadata": {
        "colab": {
          "base_uri": "https://localhost:8080/"
        },
        "id": "b13ea399",
        "outputId": "1a06971f-3690-49c0-c14c-39609bbfc8e8"
      },
      "outputs": [
        {
          "output_type": "stream",
          "name": "stdout",
          "text": [
            "==> Window: 1\n",
            "--> (7182, 1, 8) (7182,) (1577, 1, 8)\n"
          ]
        },
        {
          "output_type": "stream",
          "name": "stderr",
          "text": [
            "WARNING:absl:Compiled the loaded model, but the compiled metrics have yet to be built. `model.compile_metrics` will be empty until you train or evaluate the model.\n"
          ]
        },
        {
          "output_type": "stream",
          "name": "stdout",
          "text": [
            "✅ Loaded model and history for window 1\n",
            "==> Window: 4\n",
            "--> (7179, 4, 8) (7179,) (1577, 4, 8)\n"
          ]
        },
        {
          "output_type": "stream",
          "name": "stderr",
          "text": [
            "WARNING:absl:Compiled the loaded model, but the compiled metrics have yet to be built. `model.compile_metrics` will be empty until you train or evaluate the model.\n"
          ]
        },
        {
          "output_type": "stream",
          "name": "stdout",
          "text": [
            "✅ Loaded model and history for window 4\n",
            "==> Window: 8\n",
            "--> (7176, 8, 8) (7176,) (1576, 8, 8)\n"
          ]
        },
        {
          "output_type": "stream",
          "name": "stderr",
          "text": [
            "WARNING:absl:Compiled the loaded model, but the compiled metrics have yet to be built. `model.compile_metrics` will be empty until you train or evaluate the model.\n"
          ]
        },
        {
          "output_type": "stream",
          "name": "stdout",
          "text": [
            "✅ Loaded model and history for window 8\n",
            "==> Window: 12\n",
            "--> (7173, 12, 8) (7173,) (1575, 12, 8)\n"
          ]
        },
        {
          "output_type": "stream",
          "name": "stderr",
          "text": [
            "WARNING:absl:Compiled the loaded model, but the compiled metrics have yet to be built. `model.compile_metrics` will be empty until you train or evaluate the model.\n"
          ]
        },
        {
          "output_type": "stream",
          "name": "stdout",
          "text": [
            "✅ Loaded model and history for window 12\n"
          ]
        }
      ],
      "source": [
        "single_models = {}\n",
        "\n",
        "for window_size in window_sizes:\n",
        "    print(f\"==> Window: {window_size}\")\n",
        "\n",
        "    X_train = data[f\"win{window_size}\"][\"X_train\"]\n",
        "    X_test = data[f\"win{window_size}\"][\"X_test\"]\n",
        "    y_train = data[f\"win{window_size}\"][\"y_train\"]\n",
        "    y_test = data[f\"win{window_size}\"][\"y_test\"]\n",
        "\n",
        "    print(\"-->\", X_train.shape, y_train.shape, X_test.shape)\n",
        "\n",
        "    # Try to load the model\n",
        "    model = load_saved_model(window_size)\n",
        "    history_data = load_saved_history(window_size)\n",
        "\n",
        "    if model is not None and history_data is not None:\n",
        "        print(f\"✅ Loaded model and history for window {window_size}\")\n",
        "        history = None  # Already loaded history_data\n",
        "    else:\n",
        "        print(f\"🚀 Training new model for window {window_size}\")\n",
        "        model = build_lstm_model('single', (window_size, X_train.shape[2]))\n",
        "        model.compile(optimizer='adam', loss=rmse, metrics=['mae'])\n",
        "        history = model.fit(\n",
        "            X_train, y_train,\n",
        "            epochs=50,\n",
        "            batch_size=32,\n",
        "            validation_split=0.2,\n",
        "            verbose=1\n",
        "        )\n",
        "        save_model(model, window_size)\n",
        "        save_history(history, window_size)\n",
        "        history_data = history.history\n",
        "        print(f\"💾 Model and history saved for window {window_size}\")\n",
        "\n",
        "    single_models[f\"win{window_size}\"] = {\n",
        "        \"model\": model,\n",
        "        \"history\": history_data  # always a dict\n",
        "    }\n"
      ]
    },
    {
      "cell_type": "code",
      "source": [
        "# import matplotlib.pyplot as plt\n",
        "\n",
        "# for key, content in single_models.items():\n",
        "#     history_data = content[\"history\"]\n",
        "#     if history_data:\n",
        "#         plt.figure()\n",
        "#         plt.plot(history_data['loss'], label='Train Loss')\n",
        "#         if 'val_loss' in history_data:\n",
        "#             plt.plot(history_data['val_loss'], label='Val Loss')\n",
        "#         plt.title(f\"Loss Curve for {key}\")\n",
        "#         plt.legend()\n",
        "#         plt.show()\n"
      ],
      "metadata": {
        "id": "_MIvWmehxh5P"
      },
      "id": "_MIvWmehxh5P",
      "execution_count": 23,
      "outputs": []
    },
    {
      "cell_type": "markdown",
      "id": "Vnl47R_8_zoJ",
      "metadata": {
        "id": "Vnl47R_8_zoJ"
      },
      "source": [
        "double"
      ]
    },
    {
      "cell_type": "code",
      "execution_count": 21,
      "id": "b4152252",
      "metadata": {
        "id": "b4152252"
      },
      "outputs": [],
      "source": [
        "# Paths\n",
        "model_dir = \"/content/drive/MyDrive/reserach/with_down/log_all/double/models\"\n",
        "history_dir = \"/content/drive/MyDrive/reserach/with_down/log_all/double/history\"\n",
        "os.makedirs(model_dir, exist_ok=True)\n",
        "os.makedirs(history_dir, exist_ok=True)"
      ]
    },
    {
      "cell_type": "code",
      "execution_count": 22,
      "id": "PmHcTAX9xt5A",
      "metadata": {
        "colab": {
          "base_uri": "https://localhost:8080/",
          "height": 729
        },
        "id": "PmHcTAX9xt5A",
        "outputId": "6e766781-8fe9-4c8d-c325-ce88be05b70b"
      },
      "outputs": [
        {
          "output_type": "stream",
          "name": "stdout",
          "text": [
            "==> Window: 1\n",
            "--> (7182, 1, 8) (7182,) (1577, 1, 8)\n",
            "🚀 Training new model for window 1\n"
          ]
        },
        {
          "output_type": "stream",
          "name": "stderr",
          "text": [
            "/usr/local/lib/python3.11/dist-packages/keras/src/layers/rnn/rnn.py:200: UserWarning: Do not pass an `input_shape`/`input_dim` argument to a layer. When using Sequential models, prefer using an `Input(shape)` object as the first layer in the model instead.\n",
            "  super().__init__(**kwargs)\n"
          ]
        },
        {
          "output_type": "stream",
          "name": "stdout",
          "text": [
            "\u001b[1m180/180\u001b[0m \u001b[32m━━━━━━━━━━━━━━━━━━━━\u001b[0m\u001b[37m\u001b[0m \u001b[1m6s\u001b[0m 11ms/step - loss: 0.3115 - mae: 0.2547 - val_loss: 0.1872 - val_mae: 0.1429\n"
          ]
        },
        {
          "output_type": "stream",
          "name": "stderr",
          "text": [
            "WARNING:absl:You are saving your model as an HDF5 file via `model.save()` or `keras.saving.save_model(model)`. This file format is considered legacy. We recommend using instead the native Keras format, e.g. `model.save('my_model.keras')` or `keras.saving.save_model(model, 'my_model.keras')`. \n"
          ]
        },
        {
          "output_type": "stream",
          "name": "stdout",
          "text": [
            "💾 Model saved for window 1\n",
            "==> Window: 4\n",
            "--> (7179, 4, 8) (7179,) (1577, 4, 8)\n",
            "🚀 Training new model for window 4\n",
            "\u001b[1m180/180\u001b[0m \u001b[32m━━━━━━━━━━━━━━━━━━━━\u001b[0m\u001b[37m\u001b[0m \u001b[1m3s\u001b[0m 9ms/step - loss: 0.2815 - mae: 0.2362 - val_loss: 0.1969 - val_mae: 0.1558\n"
          ]
        },
        {
          "output_type": "stream",
          "name": "stderr",
          "text": [
            "WARNING:absl:You are saving your model as an HDF5 file via `model.save()` or `keras.saving.save_model(model)`. This file format is considered legacy. We recommend using instead the native Keras format, e.g. `model.save('my_model.keras')` or `keras.saving.save_model(model, 'my_model.keras')`. \n"
          ]
        },
        {
          "output_type": "stream",
          "name": "stdout",
          "text": [
            "💾 Model saved for window 4\n",
            "==> Window: 8\n",
            "--> (7176, 8, 8) (7176,) (1576, 8, 8)\n",
            "🚀 Training new model for window 8\n",
            "\u001b[1m180/180\u001b[0m \u001b[32m━━━━━━━━━━━━━━━━━━━━\u001b[0m\u001b[37m\u001b[0m \u001b[1m3s\u001b[0m 10ms/step - loss: 0.2538 - mae: 0.2112 - val_loss: 0.1527 - val_mae: 0.1218\n"
          ]
        },
        {
          "output_type": "error",
          "ename": "KeyboardInterrupt",
          "evalue": "",
          "traceback": [
            "\u001b[0;31m---------------------------------------------------------------------------\u001b[0m",
            "\u001b[0;31mKeyboardInterrupt\u001b[0m                         Traceback (most recent call last)",
            "\u001b[0;32m/tmp/ipython-input-22-1024189482.py\u001b[0m in \u001b[0;36m<cell line: 0>\u001b[0;34m()\u001b[0m\n\u001b[1;32m     21\u001b[0m         \u001b[0mmodel\u001b[0m \u001b[0;34m=\u001b[0m \u001b[0mbuild_lstm_model\u001b[0m\u001b[0;34m(\u001b[0m\u001b[0;34m'double'\u001b[0m\u001b[0;34m,\u001b[0m \u001b[0;34m(\u001b[0m\u001b[0mwindow_size\u001b[0m\u001b[0;34m,\u001b[0m \u001b[0mX_train\u001b[0m\u001b[0;34m.\u001b[0m\u001b[0mshape\u001b[0m\u001b[0;34m[\u001b[0m\u001b[0;36m2\u001b[0m\u001b[0;34m]\u001b[0m\u001b[0;34m)\u001b[0m\u001b[0;34m)\u001b[0m\u001b[0;34m\u001b[0m\u001b[0;34m\u001b[0m\u001b[0m\n\u001b[1;32m     22\u001b[0m         \u001b[0mmodel\u001b[0m\u001b[0;34m.\u001b[0m\u001b[0mcompile\u001b[0m\u001b[0;34m(\u001b[0m\u001b[0moptimizer\u001b[0m\u001b[0;34m=\u001b[0m\u001b[0;34m'adam'\u001b[0m\u001b[0;34m,\u001b[0m \u001b[0mloss\u001b[0m\u001b[0;34m=\u001b[0m\u001b[0mrmse\u001b[0m\u001b[0;34m,\u001b[0m \u001b[0mmetrics\u001b[0m\u001b[0;34m=\u001b[0m\u001b[0;34m[\u001b[0m\u001b[0;34m'mae'\u001b[0m\u001b[0;34m]\u001b[0m\u001b[0;34m)\u001b[0m\u001b[0;34m\u001b[0m\u001b[0;34m\u001b[0m\u001b[0m\n\u001b[0;32m---> 23\u001b[0;31m         history = model.fit(\n\u001b[0m\u001b[1;32m     24\u001b[0m             \u001b[0mX_train\u001b[0m\u001b[0;34m,\u001b[0m \u001b[0my_train\u001b[0m\u001b[0;34m,\u001b[0m\u001b[0;34m\u001b[0m\u001b[0;34m\u001b[0m\u001b[0m\n\u001b[1;32m     25\u001b[0m             \u001b[0mepochs\u001b[0m\u001b[0;34m=\u001b[0m\u001b[0;36m1\u001b[0m\u001b[0;34m,\u001b[0m\u001b[0;34m\u001b[0m\u001b[0;34m\u001b[0m\u001b[0m\n",
            "\u001b[0;32m/usr/local/lib/python3.11/dist-packages/keras/src/utils/traceback_utils.py\u001b[0m in \u001b[0;36merror_handler\u001b[0;34m(*args, **kwargs)\u001b[0m\n\u001b[1;32m    115\u001b[0m         \u001b[0mfiltered_tb\u001b[0m \u001b[0;34m=\u001b[0m \u001b[0;32mNone\u001b[0m\u001b[0;34m\u001b[0m\u001b[0;34m\u001b[0m\u001b[0m\n\u001b[1;32m    116\u001b[0m         \u001b[0;32mtry\u001b[0m\u001b[0;34m:\u001b[0m\u001b[0;34m\u001b[0m\u001b[0;34m\u001b[0m\u001b[0m\n\u001b[0;32m--> 117\u001b[0;31m             \u001b[0;32mreturn\u001b[0m \u001b[0mfn\u001b[0m\u001b[0;34m(\u001b[0m\u001b[0;34m*\u001b[0m\u001b[0margs\u001b[0m\u001b[0;34m,\u001b[0m \u001b[0;34m**\u001b[0m\u001b[0mkwargs\u001b[0m\u001b[0;34m)\u001b[0m\u001b[0;34m\u001b[0m\u001b[0;34m\u001b[0m\u001b[0m\n\u001b[0m\u001b[1;32m    118\u001b[0m         \u001b[0;32mexcept\u001b[0m \u001b[0mException\u001b[0m \u001b[0;32mas\u001b[0m \u001b[0me\u001b[0m\u001b[0;34m:\u001b[0m\u001b[0;34m\u001b[0m\u001b[0;34m\u001b[0m\u001b[0m\n\u001b[1;32m    119\u001b[0m             \u001b[0mfiltered_tb\u001b[0m \u001b[0;34m=\u001b[0m \u001b[0m_process_traceback_frames\u001b[0m\u001b[0;34m(\u001b[0m\u001b[0me\u001b[0m\u001b[0;34m.\u001b[0m\u001b[0m__traceback__\u001b[0m\u001b[0;34m)\u001b[0m\u001b[0;34m\u001b[0m\u001b[0;34m\u001b[0m\u001b[0m\n",
            "\u001b[0;31mKeyboardInterrupt\u001b[0m: "
          ]
        }
      ],
      "source": [
        "double_models = {}\n",
        "\n",
        "for window_size in window_sizes:\n",
        "    print(f\"==> Window: {window_size}\")\n",
        "\n",
        "    X_train = data[f\"win{window_size}\"][\"X_train\"]\n",
        "    X_test = data[f\"win{window_size}\"][\"X_test\"]\n",
        "    y_train = data[f\"win{window_size}\"][\"y_train\"]\n",
        "    y_test = data[f\"win{window_size}\"][\"y_test\"]\n",
        "\n",
        "    print(\"-->\", X_train.shape, y_train.shape, X_test.shape)\n",
        "\n",
        "    # Try to load the model\n",
        "    model = load_saved_model(window_size)\n",
        "    history_data = load_saved_history(window_size)\n",
        "\n",
        "    if model is not None and history_data is not None:\n",
        "        print(f\"✅ Loaded model and history for window {window_size}\")\n",
        "        history = None  # Already loaded history_data\n",
        "    else:\n",
        "        print(f\"🚀 Training new model for window {window_size}\")\n",
        "        model = build_lstm_model('double', (window_size, X_train.shape[2]))\n",
        "        model.compile(optimizer='adam', loss=rmse, metrics=['mae'])\n",
        "        history = model.fit(\n",
        "            X_train, y_train,\n",
        "            epochs=50,\n",
        "            batch_size=32,\n",
        "            validation_split=0.2,\n",
        "            verbose=1\n",
        "        )\n",
        "        save_model(model, window_size)\n",
        "        save_history(history, window_size)\n",
        "        history_data = history.history\n",
        "        print(f\"💾 Model and history saved for window {window_size}\")\n",
        "\n",
        "    double_models[f\"win{window_size}\"] = {\n",
        "        \"model\": model,\n",
        "        \"history\": history_data  # always a dict\n",
        "    }\n"
      ]
    },
    {
      "cell_type": "markdown",
      "id": "8BqRxE6fAPF_",
      "metadata": {
        "id": "8BqRxE6fAPF_"
      },
      "source": [
        "bi dir"
      ]
    },
    {
      "cell_type": "code",
      "execution_count": null,
      "id": "PmoIp4k6xt5A",
      "metadata": {
        "id": "PmoIp4k6xt5A"
      },
      "outputs": [],
      "source": [
        "# Paths\n",
        "model_dir = \"/content/drive/MyDrive/reserach/with_down/log_all/bidir/models\"\n",
        "history_dir = \"/content/drive/MyDrive/reserach/with_down/log_all/bidir/history\"\n",
        "os.makedirs(model_dir, exist_ok=True)\n",
        "os.makedirs(history_dir, exist_ok=True)"
      ]
    },
    {
      "cell_type": "code",
      "execution_count": null,
      "id": "cf5216af",
      "metadata": {
        "id": "cf5216af"
      },
      "outputs": [],
      "source": [
        "bidir_models = {}\n",
        "\n",
        "for window_size in window_sizes:\n",
        "    print(f\"==> Window: {window_size}\")\n",
        "\n",
        "    X_train = data[f\"win{window_size}\"][\"X_train\"]\n",
        "    X_test = data[f\"win{window_size}\"][\"X_test\"]\n",
        "    y_train = data[f\"win{window_size}\"][\"y_train\"]\n",
        "    y_test = data[f\"win{window_size}\"][\"y_test\"]\n",
        "\n",
        "    print(\"-->\", X_train.shape, y_train.shape, X_test.shape)\n",
        "\n",
        "    # Try to load the model\n",
        "    model = load_saved_model(window_size)\n",
        "    history_data = load_saved_history(window_size)\n",
        "\n",
        "    if model is not None and history_data is not None:\n",
        "        print(f\"✅ Loaded model and history for window {window_size}\")\n",
        "        history = None  # Already loaded history_data\n",
        "    else:\n",
        "        print(f\"🚀 Training new model for window {window_size}\")\n",
        "        model = build_lstm_model('bidirectional', (window_size, X_train.shape[2]))\n",
        "        model.compile(optimizer='adam', loss=rmse, metrics=['mae'])\n",
        "        history = model.fit(\n",
        "            X_train, y_train,\n",
        "            epochs=50,\n",
        "            batch_size=32,\n",
        "            validation_split=0.2,\n",
        "            verbose=1\n",
        "        )\n",
        "        save_model(model, window_size)\n",
        "        save_history(history, window_size)\n",
        "        history_data = history.history\n",
        "        print(f\"💾 Model and history saved for window {window_size}\")\n",
        "\n",
        "    bidir_models[f\"win{window_size}\"] = {\n",
        "        \"model\": model,\n",
        "        \"history\": history_data  # always a dict\n",
        "    }\n"
      ]
    }
  ],
  "metadata": {
    "colab": {
      "provenance": [],
      "gpuType": "T4"
    },
    "kernelspec": {
      "display_name": "Python 3",
      "name": "python3"
    },
    "language_info": {
      "codemirror_mode": {
        "name": "ipython",
        "version": 3
      },
      "file_extension": ".py",
      "mimetype": "text/x-python",
      "name": "python",
      "nbconvert_exporter": "python",
      "pygments_lexer": "ipython3",
      "version": "3.11.0"
    },
    "accelerator": "GPU"
  },
  "nbformat": 4,
  "nbformat_minor": 5
}