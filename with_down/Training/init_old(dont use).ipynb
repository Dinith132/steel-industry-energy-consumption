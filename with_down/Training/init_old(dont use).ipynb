{
 "cells": [
  {
   "cell_type": "code",
   "execution_count": 26,
   "id": "d1f5037b",
   "metadata": {},
   "outputs": [],
   "source": [
    "import pandas as pd\n",
    "import numpy as np\n",
    "from sklearn.preprocessing import OrdinalEncoder, MinMaxScaler\n",
    "from sklearn.model_selection import train_test_split"
   ]
  },
  {
   "cell_type": "code",
   "execution_count": 16,
   "id": "f06ae63b",
   "metadata": {},
   "outputs": [],
   "source": [
    "df=pd.read_csv(\"../data_log_all.csv\")"
   ]
  },
  {
   "cell_type": "code",
   "execution_count": 17,
   "id": "348c0853",
   "metadata": {},
   "outputs": [
    {
     "data": {
      "text/html": [
       "<div>\n",
       "<style scoped>\n",
       "    .dataframe tbody tr th:only-of-type {\n",
       "        vertical-align: middle;\n",
       "    }\n",
       "\n",
       "    .dataframe tbody tr th {\n",
       "        vertical-align: top;\n",
       "    }\n",
       "\n",
       "    .dataframe thead th {\n",
       "        text-align: right;\n",
       "    }\n",
       "</style>\n",
       "<table border=\"1\" class=\"dataframe\">\n",
       "  <thead>\n",
       "    <tr style=\"text-align: right;\">\n",
       "      <th></th>\n",
       "      <th>Usage_kWh</th>\n",
       "      <th>Lagging_Current_Reactive.Power_kVarh</th>\n",
       "      <th>Leading_Current_Reactive_Power_kVarh</th>\n",
       "      <th>CO2(tCO2)</th>\n",
       "      <th>Lagging_Current_Power_Factor</th>\n",
       "      <th>Leading_Current_Power_Factor</th>\n",
       "      <th>NSM</th>\n",
       "      <th>WeekStatus</th>\n",
       "      <th>Load_Type</th>\n",
       "    </tr>\n",
       "  </thead>\n",
       "  <tbody>\n",
       "    <tr>\n",
       "      <th>0</th>\n",
       "      <td>0.068186</td>\n",
       "      <td>0.352315</td>\n",
       "      <td>0.0</td>\n",
       "      <td>0.0</td>\n",
       "      <td>0.638592</td>\n",
       "      <td>1.0</td>\n",
       "      <td>0.000000</td>\n",
       "      <td>0.0</td>\n",
       "      <td>0.0</td>\n",
       "    </tr>\n",
       "    <tr>\n",
       "      <th>1</th>\n",
       "      <td>0.070905</td>\n",
       "      <td>0.372114</td>\n",
       "      <td>0.0</td>\n",
       "      <td>0.0</td>\n",
       "      <td>0.585156</td>\n",
       "      <td>1.0</td>\n",
       "      <td>0.043478</td>\n",
       "      <td>0.0</td>\n",
       "      <td>0.0</td>\n",
       "    </tr>\n",
       "    <tr>\n",
       "      <th>2</th>\n",
       "      <td>0.072554</td>\n",
       "      <td>0.382602</td>\n",
       "      <td>0.0</td>\n",
       "      <td>0.0</td>\n",
       "      <td>0.557186</td>\n",
       "      <td>1.0</td>\n",
       "      <td>0.086957</td>\n",
       "      <td>0.0</td>\n",
       "      <td>0.0</td>\n",
       "    </tr>\n",
       "    <tr>\n",
       "      <th>3</th>\n",
       "      <td>0.068034</td>\n",
       "      <td>0.377244</td>\n",
       "      <td>0.0</td>\n",
       "      <td>0.0</td>\n",
       "      <td>0.562310</td>\n",
       "      <td>1.0</td>\n",
       "      <td>0.130435</td>\n",
       "      <td>0.0</td>\n",
       "      <td>0.0</td>\n",
       "    </tr>\n",
       "    <tr>\n",
       "      <th>4</th>\n",
       "      <td>0.077733</td>\n",
       "      <td>0.393285</td>\n",
       "      <td>0.0</td>\n",
       "      <td>0.0</td>\n",
       "      <td>0.537829</td>\n",
       "      <td>1.0</td>\n",
       "      <td>0.173913</td>\n",
       "      <td>0.0</td>\n",
       "      <td>0.0</td>\n",
       "    </tr>\n",
       "  </tbody>\n",
       "</table>\n",
       "</div>"
      ],
      "text/plain": [
       "   Usage_kWh  Lagging_Current_Reactive.Power_kVarh  \\\n",
       "0   0.068186                              0.352315   \n",
       "1   0.070905                              0.372114   \n",
       "2   0.072554                              0.382602   \n",
       "3   0.068034                              0.377244   \n",
       "4   0.077733                              0.393285   \n",
       "\n",
       "   Leading_Current_Reactive_Power_kVarh  CO2(tCO2)  \\\n",
       "0                                   0.0        0.0   \n",
       "1                                   0.0        0.0   \n",
       "2                                   0.0        0.0   \n",
       "3                                   0.0        0.0   \n",
       "4                                   0.0        0.0   \n",
       "\n",
       "   Lagging_Current_Power_Factor  Leading_Current_Power_Factor       NSM  \\\n",
       "0                      0.638592                           1.0  0.000000   \n",
       "1                      0.585156                           1.0  0.043478   \n",
       "2                      0.557186                           1.0  0.086957   \n",
       "3                      0.562310                           1.0  0.130435   \n",
       "4                      0.537829                           1.0  0.173913   \n",
       "\n",
       "   WeekStatus  Load_Type  \n",
       "0         0.0        0.0  \n",
       "1         0.0        0.0  \n",
       "2         0.0        0.0  \n",
       "3         0.0        0.0  \n",
       "4         0.0        0.0  "
      ]
     },
     "execution_count": 17,
     "metadata": {},
     "output_type": "execute_result"
    }
   ],
   "source": [
    "df.head()"
   ]
  },
  {
   "cell_type": "code",
   "execution_count": 18,
   "id": "88fa438b",
   "metadata": {},
   "outputs": [],
   "source": [
    "# Sliding window transformation\n",
    "def create_sliding_windows(data, window_size=1):\n",
    "    X, y = [], []\n",
    "    for i in range(len(data)-window_size):\n",
    "        X.append(data[i:i+window_size, 1:])\n",
    "        y.append(data[i+window_size, 0])\n",
    "    return np.array(X), np.array(y)"
   ]
  },
  {
   "cell_type": "code",
   "execution_count": 19,
   "id": "93e93453",
   "metadata": {},
   "outputs": [],
   "source": [
    "data={}"
   ]
  },
  {
   "cell_type": "code",
   "execution_count": 20,
   "id": "8da8562b",
   "metadata": {},
   "outputs": [],
   "source": [
    "df_np = df.to_numpy()"
   ]
  },
  {
   "cell_type": "code",
   "execution_count": 23,
   "id": "07c70861",
   "metadata": {},
   "outputs": [],
   "source": [
    "window_sizes=[1,4,8,12,16,24,36,48,74,168,336,672]"
   ]
  },
  {
   "cell_type": "code",
   "execution_count": 27,
   "id": "ce0b255c",
   "metadata": {},
   "outputs": [],
   "source": [
    "for window in window_sizes:\n",
    "  X, y = create_sliding_windows(df_np, window)\n",
    "  X_train, X_test, y_train, y_test = train_test_split(X, y, test_size=0.18, shuffle=False)\n",
    "  data[f\"win{window}\"] = {\n",
    "      \"X_train\": X_train,\n",
    "      \"X_test\": X_test,\n",
    "      \"y_train\": y_train,\n",
    "      \"y_test\": y_test\n",
    "  }"
   ]
  },
  {
   "cell_type": "code",
   "execution_count": 33,
   "id": "429b5c1f",
   "metadata": {},
   "outputs": [
    {
     "data": {
      "text/plain": [
       "((7182, 1, 8), (7182,), (1577, 1, 8), (1577,))"
      ]
     },
     "execution_count": 33,
     "metadata": {},
     "output_type": "execute_result"
    }
   ],
   "source": [
    "data['win1']['X_train'].shape, data['win1']['y_train'].shape, data['win1']['X_test'].shape, data['win1']['y_test'].shape    "
   ]
  },
  {
   "cell_type": "markdown",
   "id": "7d2810ef",
   "metadata": {},
   "source": [
    "trainig"
   ]
  },
  {
   "cell_type": "code",
   "execution_count": 42,
   "id": "a1b1dcd3",
   "metadata": {},
   "outputs": [],
   "source": [
    "from tensorflow.keras.models import Sequential\n",
    "from tensorflow.keras.layers import LSTM, Bidirectional, Dense, Dropout"
   ]
  },
  {
   "cell_type": "code",
   "execution_count": 43,
   "id": "f603a471",
   "metadata": {},
   "outputs": [],
   "source": [
    "def build_lstm_model(model_type, input_shape):\n",
    "    model = Sequential()\n",
    "\n",
    "    if model_type == 'single':\n",
    "        model.add(LSTM(64, input_shape=input_shape))\n",
    "    elif model_type == 'double':\n",
    "        model.add(LSTM(64, return_sequences=True, input_shape=input_shape))\n",
    "        model.add(LSTM(64))\n",
    "    elif model_type == 'bidirectional':\n",
    "        model.add(Bidirectional(LSTM(64), input_shape=input_shape))\n",
    "\n",
    "    model.add(Dropout(0.1))\n",
    "    model.add(Dense(1))\n",
    "    return model"
   ]
  },
  {
   "cell_type": "code",
   "execution_count": 45,
   "id": "f7069360",
   "metadata": {},
   "outputs": [],
   "source": [
    "import tensorflow.keras.backend as K\n",
    "def rmse(y_true, y_pred):\n",
    "    return K.sqrt(K.mean(K.square(y_true - y_pred)))"
   ]
  },
  {
   "cell_type": "markdown",
   "id": "a4742e9e",
   "metadata": {},
   "source": [
    "Single layer\n"
   ]
  },
  {
   "cell_type": "code",
   "execution_count": null,
   "id": "9faa8073",
   "metadata": {},
   "outputs": [],
   "source": []
  },
  {
   "cell_type": "code",
   "execution_count": null,
   "id": "333dbfc5",
   "metadata": {},
   "outputs": [
    {
     "ename": "ModuleNotFoundError",
     "evalue": "No module named 'google.colab'",
     "output_type": "error",
     "traceback": [
      "\u001b[31m---------------------------------------------------------------------------\u001b[39m",
      "\u001b[31mModuleNotFoundError\u001b[39m                       Traceback (most recent call last)",
      "\u001b[36mCell\u001b[39m\u001b[36m \u001b[39m\u001b[32mIn[48]\u001b[39m\u001b[32m, line 1\u001b[39m\n\u001b[32m----> \u001b[39m\u001b[32m1\u001b[39m \u001b[38;5;28;01mfrom\u001b[39;00m\u001b[38;5;250m \u001b[39m\u001b[34;01mgoogle\u001b[39;00m\u001b[34;01m.\u001b[39;00m\u001b[34;01mcolab\u001b[39;00m\u001b[38;5;250m \u001b[39m\u001b[38;5;28;01mimport\u001b[39;00m drive\n\u001b[32m      2\u001b[39m drive.mount(\u001b[33m'\u001b[39m\u001b[33m/content/drive\u001b[39m\u001b[33m'\u001b[39m)\n",
      "\u001b[31mModuleNotFoundError\u001b[39m: No module named 'google.colab'"
     ]
    }
   ],
   "source": [
    "drive.mount('/content/drive')"
   ]
  },
  {
   "cell_type": "code",
   "execution_count": null,
   "id": "cc920fce",
   "metadata": {},
   "outputs": [],
   "source": [
    "import os\n",
    "\n",
    "model_dir = '/content/drive/MyDrive/single_models'\n",
    "os.makedirs(model_dir, exist_ok=True)"
   ]
  },
  {
   "cell_type": "code",
   "execution_count": 47,
   "id": "313bef6e",
   "metadata": {},
   "outputs": [],
   "source": [
    "from tensorflow.keras.models import load_model\n",
    "\n",
    "# Save model to disk\n",
    "def save_model(model, window_size):\n",
    "    path = f\"{model_dir}/win{window_size}.h5\"\n",
    "    model.save(path)\n",
    "\n",
    "# Load model from disk\n",
    "def load_saved_model(window_size):\n",
    "    path = f\"{model_dir}/win{window_size}.h5\"\n",
    "    if os.path.exists(path):\n",
    "        return load_model(path, custom_objects={'rmse': rmse})\n",
    "    else:\n",
    "        return None\n"
   ]
  },
  {
   "cell_type": "code",
   "execution_count": null,
   "id": "b13ea399",
   "metadata": {},
   "outputs": [],
   "source": [
    "single_models = {}\n",
    "\n",
    "for window_size in window_sizes:\n",
    "    print(f\"==> Window: {window_size}\")\n",
    "\n",
    "    X_train = data[f\"win{window_size}\"][\"X_train\"]\n",
    "    X_test = data[f\"win{window_size}\"][\"X_test\"]\n",
    "    y_train = data[f\"win{window_size}\"][\"y_train\"]\n",
    "    y_test = data[f\"win{window_size}\"][\"y_test\"]\n",
    "\n",
    "    print(\"-->\", X_train.shape, y_train.shape, X_test.shape)\n",
    "\n",
    "    # Try to load the model\n",
    "    model = load_saved_model(window_size)\n",
    "\n",
    "    if model is not None:\n",
    "        print(f\"✅ Loaded existing model for window {window_size}\")\n",
    "        history = None  # Since we didn't train now\n",
    "    else:\n",
    "        print(f\"🚀 Training new model for window {window_size}\")\n",
    "        model = build_lstm_model('single', (window_size, X_train.shape[2]))\n",
    "        model.compile(optimizer='adam', loss=rmse, metrics=['mae'])\n",
    "        history = model.fit(\n",
    "            X_train, y_train,\n",
    "            epochs=50,\n",
    "            batch_size=32,\n",
    "            validation_split=0.2,\n",
    "            verbose=1\n",
    "        )\n",
    "        save_model(model, window_size)\n",
    "        print(f\"💾 Model saved for window {window_size}\")\n",
    "\n",
    "    single_models[f\"win{window_size}\"] = {\n",
    "        \"model\": model,\n",
    "        \"history\": history\n",
    "    }\n"
   ]
  },
  {
   "cell_type": "code",
   "execution_count": null,
   "id": "b4152252",
   "metadata": {},
   "outputs": [],
   "source": []
  },
  {
   "cell_type": "code",
   "execution_count": null,
   "metadata": {},
   "outputs": [],
   "source": []
  },
  {
   "cell_type": "code",
   "execution_count": null,
   "metadata": {},
   "outputs": [],
   "source": []
  },
  {
   "cell_type": "code",
   "execution_count": null,
   "id": "cf5216af",
   "metadata": {},
   "outputs": [],
   "source": [
    "import os\n",
    "from tensorflow.keras.models import load_model\n",
    "\n",
    "single_layers_folder = \"single layers\"\n",
    "model_files = [f for f in os.listdir(single_layers_folder) if f.endswith('.h5') or f.endswith('.keras')]\n",
    "\n",
    "loaded_models = {}\n",
    "for model_file in model_files:\n",
    "    model_path = os.path.join(single_layers_folder, model_file)\n",
    "    loaded_models[model_file] = load_model(model_path)"
   ]
  }
 ],
 "metadata": {
  "kernelspec": {
   "display_name": "Python 3",
   "language": "python",
   "name": "python3"
  },
  "language_info": {
   "codemirror_mode": {
    "name": "ipython",
    "version": 3
   },
   "file_extension": ".py",
   "mimetype": "text/x-python",
   "name": "python",
   "nbconvert_exporter": "python",
   "pygments_lexer": "ipython3",
   "version": "3.12.10"
  }
 },
 "nbformat": 4,
 "nbformat_minor": 5
}
