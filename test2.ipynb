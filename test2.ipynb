{
 "cells": [
  {
   "cell_type": "code",
   "execution_count": 8,
   "metadata": {},
   "outputs": [
    {
     "name": "stdout",
     "output_type": "stream",
     "text": [
      "X_train shape: (400, 5, 10)\n",
      "y_train shape: (400, 1)\n",
      "X_test shape: (100, 5, 10)\n",
      "y_test shape: (100, 1)\n"
     ]
    }
   ],
   "source": [
    "import numpy as np\n",
    "\n",
    "# Define dataset parameters\n",
    "samples = 500    # Number of samples\n",
    "timesteps = 5   # Time steps per sample\n",
    "features = 10    # Number of features per time step\n",
    "\n",
    "# Generate random input data (X) and corresponding outputs (y)\n",
    "np.random.seed(42)\n",
    "X_data = np.random.rand(samples, timesteps, features)  # Random values between 0 and 1\n",
    "y_data = np.random.rand(samples, 1)  # Single output per sample\n",
    "\n",
    "# Split into train and test sets (80% train, 20% test)\n",
    "train_size = int(0.8 * samples)\n",
    "X_train, X_test = X_data[:train_size], X_data[train_size:]\n",
    "y_train, y_test = y_data[:train_size], y_data[train_size:]\n",
    "\n",
    "# Print dataset shapes\n",
    "print(\"X_train shape:\", X_train.shape)  # (400, 10, 10)\n",
    "print(\"y_train shape:\", y_train.shape)  # (400, 1)\n",
    "print(\"X_test shape:\", X_test.shape)    # (100, 10, 10)\n",
    "print(\"y_test shape:\", y_test.shape)    # (100, 1)"
   ]
  },
  {
   "cell_type": "code",
   "execution_count": 9,
   "metadata": {},
   "outputs": [
    {
     "data": {
      "text/plain": [
       "array([[[0.37454012, 0.95071431, 0.73199394, ..., 0.86617615,\n",
       "         0.60111501, 0.70807258],\n",
       "        [0.02058449, 0.96990985, 0.83244264, ..., 0.52475643,\n",
       "         0.43194502, 0.29122914],\n",
       "        [0.61185289, 0.13949386, 0.29214465, ..., 0.51423444,\n",
       "         0.59241457, 0.04645041],\n",
       "        [0.60754485, 0.17052412, 0.06505159, ..., 0.09767211,\n",
       "         0.68423303, 0.44015249],\n",
       "        [0.12203823, 0.49517691, 0.03438852, ..., 0.52006802,\n",
       "         0.54671028, 0.18485446]],\n",
       "\n",
       "       [[0.96958463, 0.77513282, 0.93949894, ..., 0.19598286,\n",
       "         0.04522729, 0.32533033],\n",
       "        [0.38867729, 0.27134903, 0.82873751, ..., 0.80219698,\n",
       "         0.07455064, 0.98688694],\n",
       "        [0.77224477, 0.19871568, 0.00552212, ..., 0.07404465,\n",
       "         0.35846573, 0.11586906],\n",
       "        [0.86310343, 0.62329813, 0.33089802, ..., 0.63755747,\n",
       "         0.88721274, 0.47221493],\n",
       "        [0.11959425, 0.71324479, 0.76078505, ..., 0.42754102,\n",
       "         0.02541913, 0.10789143]],\n",
       "\n",
       "       [[0.03142919, 0.63641041, 0.31435598, ..., 0.75555114,\n",
       "         0.22879817, 0.07697991],\n",
       "        [0.28975145, 0.16122129, 0.92969765, ..., 0.18657006,\n",
       "         0.892559  , 0.53934224],\n",
       "        [0.80744016, 0.8960913 , 0.31800347, ..., 0.86073058,\n",
       "         0.00695213, 0.5107473 ],\n",
       "        [0.417411  , 0.22210781, 0.11986537, ..., 0.70301896,\n",
       "         0.3636296 , 0.97178208],\n",
       "        [0.96244729, 0.2517823 , 0.49724851, ..., 0.50267902,\n",
       "         0.05147875, 0.27864646]],\n",
       "\n",
       "       ...,\n",
       "\n",
       "       [[0.91400004, 0.90147758, 0.51876195, ..., 0.10629486,\n",
       "         0.48735437, 0.63439726],\n",
       "        [0.10368029, 0.5196071 , 0.57752129, ..., 0.98312641,\n",
       "         0.21749318, 0.98590383],\n",
       "        [0.71434253, 0.82608207, 0.08964127, ..., 0.10527306,\n",
       "         0.56237278, 0.00607062],\n",
       "        [0.71268282, 0.19719269, 0.12958454, ..., 0.00846442,\n",
       "         0.96841486, 0.5921456 ],\n",
       "        [0.71989964, 0.65138317, 0.14436456, ..., 0.55888111,\n",
       "         0.11907343, 0.03443597]],\n",
       "\n",
       "       [[0.79823431, 0.72592244, 0.0818189 , ..., 0.25398745,\n",
       "         0.48780299, 0.23645958],\n",
       "        [0.62280014, 0.11541424, 0.12724317, ..., 0.87930105,\n",
       "         0.74032848, 0.46172292],\n",
       "        [0.98435599, 0.4562561 , 0.11245067, ..., 0.50355215,\n",
       "         0.55871295, 0.2400959 ],\n",
       "        [0.55685876, 0.75606111, 0.26650984, ..., 0.87119644,\n",
       "         0.17004989, 0.07357964],\n",
       "        [0.1193835 , 0.16101833, 0.53308266, ..., 0.9268722 ,\n",
       "         0.18115261, 0.91247499]],\n",
       "\n",
       "       [[0.05622743, 0.94821945, 0.20079826, ..., 0.97480777,\n",
       "         0.60642649, 0.72148541],\n",
       "        [0.08800525, 0.62781243, 0.45384978, ..., 0.25937253,\n",
       "         0.37612243, 0.30406354],\n",
       "        [0.25387884, 0.04966871, 0.83674633, ..., 0.56300476,\n",
       "         0.50244179, 0.49123457],\n",
       "        [0.57450433, 0.28705661, 0.66294927, ..., 0.39361034,\n",
       "         0.84761779, 0.92025825],\n",
       "        [0.53686627, 0.21495245, 0.91579216, ..., 0.92327409,\n",
       "         0.63728565, 0.95183855]]])"
      ]
     },
     "execution_count": 9,
     "metadata": {},
     "output_type": "execute_result"
    }
   ],
   "source": [
    "X_data"
   ]
  },
  {
   "cell_type": "code",
   "execution_count": null,
   "metadata": {},
   "outputs": [
    {
     "name": "stdout",
     "output_type": "stream",
     "text": [
      "Epoch 1/20\n"
     ]
    },
    {
     "name": "stderr",
     "output_type": "stream",
     "text": [
      "c:\\Users\\dinit\\AppData\\Local\\Programs\\Python\\Python312\\Lib\\site-packages\\keras\\src\\layers\\rnn\\rnn.py:200: UserWarning: Do not pass an `input_shape`/`input_dim` argument to a layer. When using Sequential models, prefer using an `Input(shape)` object as the first layer in the model instead.\n",
      "  super().__init__(**kwargs)\n"
     ]
    },
    {
     "name": "stdout",
     "output_type": "stream",
     "text": [
      "\u001b[1m50/50\u001b[0m \u001b[32m━━━━━━━━━━━━━━━━━━━━\u001b[0m\u001b[37m\u001b[0m \u001b[1m2s\u001b[0m 6ms/step - loss: 0.1782\n",
      "Epoch 2/20\n",
      "\u001b[1m50/50\u001b[0m \u001b[32m━━━━━━━━━━━━━━━━━━━━\u001b[0m\u001b[37m\u001b[0m \u001b[1m0s\u001b[0m 5ms/step - loss: 0.0998\n",
      "Epoch 3/20\n",
      "\u001b[1m50/50\u001b[0m \u001b[32m━━━━━━━━━━━━━━━━━━━━\u001b[0m\u001b[37m\u001b[0m \u001b[1m0s\u001b[0m 6ms/step - loss: 0.1008\n",
      "Epoch 4/20\n",
      "\u001b[1m50/50\u001b[0m \u001b[32m━━━━━━━━━━━━━━━━━━━━\u001b[0m\u001b[37m\u001b[0m \u001b[1m0s\u001b[0m 5ms/step - loss: 0.0892\n",
      "Epoch 5/20\n",
      "\u001b[1m50/50\u001b[0m \u001b[32m━━━━━━━━━━━━━━━━━━━━\u001b[0m\u001b[37m\u001b[0m \u001b[1m0s\u001b[0m 4ms/step - loss: 0.0850\n",
      "Epoch 6/20\n",
      "\u001b[1m50/50\u001b[0m \u001b[32m━━━━━━━━━━━━━━━━━━━━\u001b[0m\u001b[37m\u001b[0m \u001b[1m0s\u001b[0m 5ms/step - loss: 0.0791\n",
      "Epoch 7/20\n",
      "\u001b[1m50/50\u001b[0m \u001b[32m━━━━━━━━━━━━━━━━━━━━\u001b[0m\u001b[37m\u001b[0m \u001b[1m0s\u001b[0m 5ms/step - loss: 0.0846\n",
      "Epoch 8/20\n",
      "\u001b[1m50/50\u001b[0m \u001b[32m━━━━━━━━━━━━━━━━━━━━\u001b[0m\u001b[37m\u001b[0m \u001b[1m0s\u001b[0m 5ms/step - loss: 0.0749\n",
      "Epoch 9/20\n",
      "\u001b[1m50/50\u001b[0m \u001b[32m━━━━━━━━━━━━━━━━━━━━\u001b[0m\u001b[37m\u001b[0m \u001b[1m0s\u001b[0m 4ms/step - loss: 0.0822\n",
      "Epoch 10/20\n",
      "\u001b[1m50/50\u001b[0m \u001b[32m━━━━━━━━━━━━━━━━━━━━\u001b[0m\u001b[37m\u001b[0m \u001b[1m0s\u001b[0m 5ms/step - loss: 0.0799\n",
      "Epoch 11/20\n",
      "\u001b[1m50/50\u001b[0m \u001b[32m━━━━━━━━━━━━━━━━━━━━\u001b[0m\u001b[37m\u001b[0m \u001b[1m0s\u001b[0m 5ms/step - loss: 0.0768\n",
      "Epoch 12/20\n",
      "\u001b[1m50/50\u001b[0m \u001b[32m━━━━━━━━━━━━━━━━━━━━\u001b[0m\u001b[37m\u001b[0m \u001b[1m0s\u001b[0m 5ms/step - loss: 0.0847\n",
      "Epoch 13/20\n",
      "\u001b[1m50/50\u001b[0m \u001b[32m━━━━━━━━━━━━━━━━━━━━\u001b[0m\u001b[37m\u001b[0m \u001b[1m0s\u001b[0m 5ms/step - loss: 0.0786\n",
      "Epoch 14/20\n",
      "\u001b[1m50/50\u001b[0m \u001b[32m━━━━━━━━━━━━━━━━━━━━\u001b[0m\u001b[37m\u001b[0m \u001b[1m0s\u001b[0m 4ms/step - loss: 0.0772\n",
      "Epoch 15/20\n",
      "\u001b[1m50/50\u001b[0m \u001b[32m━━━━━━━━━━━━━━━━━━━━\u001b[0m\u001b[37m\u001b[0m \u001b[1m0s\u001b[0m 4ms/step - loss: 0.0879\n",
      "Epoch 16/20\n",
      "\u001b[1m50/50\u001b[0m \u001b[32m━━━━━━━━━━━━━━━━━━━━\u001b[0m\u001b[37m\u001b[0m \u001b[1m0s\u001b[0m 5ms/step - loss: 0.0786\n",
      "Epoch 17/20\n",
      "\u001b[1m50/50\u001b[0m \u001b[32m━━━━━━━━━━━━━━━━━━━━\u001b[0m\u001b[37m\u001b[0m \u001b[1m0s\u001b[0m 4ms/step - loss: 0.0780\n",
      "Epoch 18/20\n",
      "\u001b[1m50/50\u001b[0m \u001b[32m━━━━━━━━━━━━━━━━━━━━\u001b[0m\u001b[37m\u001b[0m \u001b[1m0s\u001b[0m 4ms/step - loss: 0.0763\n",
      "Epoch 19/20\n",
      "\u001b[1m50/50\u001b[0m \u001b[32m━━━━━━━━━━━━━━━━━━━━\u001b[0m\u001b[37m\u001b[0m \u001b[1m0s\u001b[0m 5ms/step - loss: 0.0764\n",
      "Epoch 20/20\n",
      "\u001b[1m50/50\u001b[0m \u001b[32m━━━━━━━━━━━━━━━━━━━━\u001b[0m\u001b[37m\u001b[0m \u001b[1m0s\u001b[0m 4ms/step - loss: 0.0731\n",
      "WARNING:tensorflow:5 out of the last 9 calls to <function TensorFlowTrainer.make_predict_function.<locals>.one_step_on_data_distributed at 0x000001AE5CE9FA60> triggered tf.function retracing. Tracing is expensive and the excessive number of tracings could be due to (1) creating @tf.function repeatedly in a loop, (2) passing tensors with different shapes, (3) passing Python objects instead of tensors. For (1), please define your @tf.function outside of the loop. For (2), @tf.function has reduce_retracing=True option that can avoid unnecessary retracing. For (3), please refer to https://www.tensorflow.org/guide/function#controlling_retracing and https://www.tensorflow.org/api_docs/python/tf/function for  more details.\n",
      "\u001b[1m1/4\u001b[0m \u001b[32m━━━━━\u001b[0m\u001b[37m━━━━━━━━━━━━━━━\u001b[0m \u001b[1m0s\u001b[0m 182ms/stepWARNING:tensorflow:6 out of the last 12 calls to <function TensorFlowTrainer.make_predict_function.<locals>.one_step_on_data_distributed at 0x000001AE5CE9FA60> triggered tf.function retracing. Tracing is expensive and the excessive number of tracings could be due to (1) creating @tf.function repeatedly in a loop, (2) passing tensors with different shapes, (3) passing Python objects instead of tensors. For (1), please define your @tf.function outside of the loop. For (2), @tf.function has reduce_retracing=True option that can avoid unnecessary retracing. For (3), please refer to https://www.tensorflow.org/guide/function#controlling_retracing and https://www.tensorflow.org/api_docs/python/tf/function for  more details.\n",
      "\u001b[1m4/4\u001b[0m \u001b[32m━━━━━━━━━━━━━━━━━━━━\u001b[0m\u001b[37m\u001b[0m \u001b[1m0s\u001b[0m 61ms/step\n",
      "Predicted values: [0.53096443 0.5601973  0.54770195 0.58249974 0.59233475 0.5608948\n",
      " 0.6043304  0.5895189  0.5439857  0.6152338  0.535155   0.52658355\n",
      " 0.5619463  0.5422111  0.56119984 0.42494074 0.6073916  0.56100285\n",
      " 0.6059102  0.58223337 0.505952   0.5334827  0.5568124  0.6296102\n",
      " 0.6225586 ]\n",
      "Actual values: [0.51340878 0.64477523 0.05803056 0.69573053 0.70720087]\n"
     ]
    }
   ],
   "source": [
    "import tensorflow as tf\n",
    "from tensorflow.keras.models import Sequential\n",
    "from tensorflow.keras.layers import LSTM, Dense\n",
    "\n",
    "model = Sequential([\n",
    "    LSTM(50, activation='relu', return_sequences=True, input_shape=(timesteps, features)),\n",
    "    Dense(1) \n",
    "])\n",
    "\n",
    "model.compile(optimizer='adam', loss='mse')\n",
    "\n",
    "# Train the model\n",
    "model.fit(X_train, y_train, epochs=20, batch_size=8, verbose=1)\n",
    "\n",
    "# Test the model\n",
    "y_pred = model.predict(X_test)\n",
    "\n",
    "# Print first few predictions\n",
    "print(\"Predicted values:\", y_pred[:5].flatten())\n",
    "print(\"Actual values:\", y_test[:5].flatten())\n"
   ]
  },
  {
   "cell_type": "code",
   "execution_count": 11,
   "metadata": {},
   "outputs": [
    {
     "data": {
      "text/plain": [
       "array([[[0.72999831, 0.184512  , 0.34663969, ..., 0.11654669,\n",
       "         0.70956772, 0.23034416],\n",
       "        [0.41447673, 0.03286273, 0.13590738, ..., 0.97218297,\n",
       "         0.59907151, 0.24171373],\n",
       "        [0.32765503, 0.31983592, 0.32649433, ..., 0.02213916,\n",
       "         0.21883468, 0.1074714 ],\n",
       "        [0.78544503, 0.11249796, 0.72422824, ..., 0.23576151,\n",
       "         0.89468117, 0.04525831],\n",
       "        [0.20181961, 0.75204693, 0.70937793, ..., 0.19571341,\n",
       "         0.51606182, 0.9102272 ]],\n",
       "\n",
       "       [[0.04354658, 0.76580409, 0.57247323, ..., 0.14364737,\n",
       "         0.91288175, 0.66895308],\n",
       "        [0.43798602, 0.57325957, 0.74561391, ..., 0.63966427,\n",
       "         0.4157279 , 0.59459845],\n",
       "        [0.4199858 , 0.15299579, 0.46942675, ..., 0.41468771,\n",
       "         0.78629393, 0.41285927],\n",
       "        [0.69653079, 0.50721368, 0.24122313, ..., 0.06706563,\n",
       "         0.50293394, 0.49956216],\n",
       "        [0.7069009 , 0.74475069, 0.72779149, ..., 0.59721269,\n",
       "         0.94724788, 0.19289374]],\n",
       "\n",
       "       [[0.9057721 , 0.05345551, 0.30838921, ..., 0.82855141,\n",
       "         0.65206582, 0.45841383],\n",
       "        [0.93295604, 0.83074655, 0.49931515, ..., 0.4620846 ,\n",
       "         0.07812143, 0.35734869],\n",
       "        [0.69582852, 0.95321603, 0.96306411, ..., 0.07065879,\n",
       "         0.28468569, 0.66836335],\n",
       "        [0.31031013, 0.04984687, 0.83187041, ..., 0.17801595,\n",
       "         0.77430012, 0.32168405],\n",
       "        [0.80469579, 0.173846  , 0.49287918, ..., 0.22852515,\n",
       "         0.4937192 , 0.88399255]],\n",
       "\n",
       "       ...,\n",
       "\n",
       "       [[0.91400004, 0.90147758, 0.51876195, ..., 0.10629486,\n",
       "         0.48735437, 0.63439726],\n",
       "        [0.10368029, 0.5196071 , 0.57752129, ..., 0.98312641,\n",
       "         0.21749318, 0.98590383],\n",
       "        [0.71434253, 0.82608207, 0.08964127, ..., 0.10527306,\n",
       "         0.56237278, 0.00607062],\n",
       "        [0.71268282, 0.19719269, 0.12958454, ..., 0.00846442,\n",
       "         0.96841486, 0.5921456 ],\n",
       "        [0.71989964, 0.65138317, 0.14436456, ..., 0.55888111,\n",
       "         0.11907343, 0.03443597]],\n",
       "\n",
       "       [[0.79823431, 0.72592244, 0.0818189 , ..., 0.25398745,\n",
       "         0.48780299, 0.23645958],\n",
       "        [0.62280014, 0.11541424, 0.12724317, ..., 0.87930105,\n",
       "         0.74032848, 0.46172292],\n",
       "        [0.98435599, 0.4562561 , 0.11245067, ..., 0.50355215,\n",
       "         0.55871295, 0.2400959 ],\n",
       "        [0.55685876, 0.75606111, 0.26650984, ..., 0.87119644,\n",
       "         0.17004989, 0.07357964],\n",
       "        [0.1193835 , 0.16101833, 0.53308266, ..., 0.9268722 ,\n",
       "         0.18115261, 0.91247499]],\n",
       "\n",
       "       [[0.05622743, 0.94821945, 0.20079826, ..., 0.97480777,\n",
       "         0.60642649, 0.72148541],\n",
       "        [0.08800525, 0.62781243, 0.45384978, ..., 0.25937253,\n",
       "         0.37612243, 0.30406354],\n",
       "        [0.25387884, 0.04966871, 0.83674633, ..., 0.56300476,\n",
       "         0.50244179, 0.49123457],\n",
       "        [0.57450433, 0.28705661, 0.66294927, ..., 0.39361034,\n",
       "         0.84761779, 0.92025825],\n",
       "        [0.53686627, 0.21495245, 0.91579216, ..., 0.92327409,\n",
       "         0.63728565, 0.95183855]]])"
      ]
     },
     "execution_count": 11,
     "metadata": {},
     "output_type": "execute_result"
    }
   ],
   "source": [
    "X_test"
   ]
  },
  {
   "cell_type": "code",
   "execution_count": null,
   "metadata": {},
   "outputs": [],
   "source": []
  },
  {
   "cell_type": "code",
   "execution_count": null,
   "metadata": {},
   "outputs": [],
   "source": []
  },
  {
   "cell_type": "code",
   "execution_count": null,
   "metadata": {},
   "outputs": [],
   "source": []
  }
 ],
 "metadata": {
  "kernelspec": {
   "display_name": "Python 3",
   "language": "python",
   "name": "python3"
  },
  "language_info": {
   "codemirror_mode": {
    "name": "ipython",
    "version": 3
   },
   "file_extension": ".py",
   "mimetype": "text/x-python",
   "name": "python",
   "nbconvert_exporter": "python",
   "pygments_lexer": "ipython3",
   "version": "3.12.8"
  }
 },
 "nbformat": 4,
 "nbformat_minor": 2
}
